{
 "cells": [
  {
   "cell_type": "code",
   "execution_count": 4,
   "id": "8e9b6761",
   "metadata": {},
   "outputs": [],
   "source": [
    "import pandas as pd\n",
    "import numpy as np\n",
    "import seaborn as sns\n",
    "import collections\n",
    "import re\n",
    "from bs4 import BeautifulSoup\n",
    "from gensim.parsing.preprocessing import remove_stopwords\n",
    "import nltk\n",
    "from nltk.corpus import stopwords\n",
    "# nltk.download('stopwords')\n",
    "import matplotlib.pyplot as plt\n",
    "\n",
    "from nltk.stem import PorterStemmer, WordNetLemmatizer\n",
    "from nltk.tokenize import word_tokenize\n",
    "\n",
    "from sklearn.feature_extraction.text import CountVectorizer\n",
    "from sklearn.preprocessing import LabelEncoder\n",
    "\n",
    "from sklearn.model_selection import train_test_split\n",
    "from sklearn.linear_model import LogisticRegression\n",
    "from sklearn.metrics import accuracy_score\n",
    "from sklearn.metrics import confusion_matrix\n",
    "from sklearn.model_selection import GridSearchCV \n",
    "from sklearn.linear_model import Ridge\n",
    "from sklearn.linear_model import Lasso\n",
    "from sklearn.metrics import mean_squared_error\n",
    "from sklearn.naive_bayes import GaussianNB\n",
    "from sklearn.ensemble import RandomForestClassifier\n",
    "from sklearn.metrics import classification_report"
   ]
  },
  {
   "cell_type": "code",
   "execution_count": 5,
   "id": "accc111f",
   "metadata": {},
   "outputs": [],
   "source": [
    "reviews_data = pd.read_csv('reviews-dataset.csv')"
   ]
  },
  {
   "cell_type": "code",
   "execution_count": 6,
   "id": "2bc69bd8",
   "metadata": {},
   "outputs": [
    {
     "data": {
      "text/html": [
       "<div>\n",
       "<style scoped>\n",
       "    .dataframe tbody tr th:only-of-type {\n",
       "        vertical-align: middle;\n",
       "    }\n",
       "\n",
       "    .dataframe tbody tr th {\n",
       "        vertical-align: top;\n",
       "    }\n",
       "\n",
       "    .dataframe thead th {\n",
       "        text-align: right;\n",
       "    }\n",
       "</style>\n",
       "<table border=\"1\" class=\"dataframe\">\n",
       "  <thead>\n",
       "    <tr style=\"text-align: right;\">\n",
       "      <th></th>\n",
       "      <th>review</th>\n",
       "      <th>sentiment</th>\n",
       "    </tr>\n",
       "  </thead>\n",
       "  <tbody>\n",
       "    <tr>\n",
       "      <th>0</th>\n",
       "      <td>It reaches the minds and feelings of everyone ...</td>\n",
       "      <td>positive</td>\n",
       "    </tr>\n",
       "    <tr>\n",
       "      <th>1</th>\n",
       "      <td>This is another notorious Mexican horror film:...</td>\n",
       "      <td>negative</td>\n",
       "    </tr>\n",
       "    <tr>\n",
       "      <th>2</th>\n",
       "      <td>Skippy from Family Ties goes from clean-cut to...</td>\n",
       "      <td>positive</td>\n",
       "    </tr>\n",
       "    <tr>\n",
       "      <th>3</th>\n",
       "      <td>Unlike Terms of Endearment and Steel Magnolia'...</td>\n",
       "      <td>negative</td>\n",
       "    </tr>\n",
       "    <tr>\n",
       "      <th>4</th>\n",
       "      <td>I have seen most of the Tarzan episodes. Certa...</td>\n",
       "      <td>positive</td>\n",
       "    </tr>\n",
       "    <tr>\n",
       "      <th>...</th>\n",
       "      <td>...</td>\n",
       "      <td>...</td>\n",
       "    </tr>\n",
       "    <tr>\n",
       "      <th>39995</th>\n",
       "      <td>Others have harped here about James Stewart's ...</td>\n",
       "      <td>positive</td>\n",
       "    </tr>\n",
       "    <tr>\n",
       "      <th>39996</th>\n",
       "      <td>Most likely \"Cleopatra 2525\" will be of little...</td>\n",
       "      <td>negative</td>\n",
       "    </tr>\n",
       "    <tr>\n",
       "      <th>39997</th>\n",
       "      <td>Jim Henson's Muppets were a favorite of mine s...</td>\n",
       "      <td>positive</td>\n",
       "    </tr>\n",
       "    <tr>\n",
       "      <th>39998</th>\n",
       "      <td>I agree with \"johnlewis\", who said that there ...</td>\n",
       "      <td>positive</td>\n",
       "    </tr>\n",
       "    <tr>\n",
       "      <th>39999</th>\n",
       "      <td>Very few so called \"remakes\" can be as good as...</td>\n",
       "      <td>positive</td>\n",
       "    </tr>\n",
       "  </tbody>\n",
       "</table>\n",
       "<p>40000 rows × 2 columns</p>\n",
       "</div>"
      ],
      "text/plain": [
       "                                                  review sentiment\n",
       "0      It reaches the minds and feelings of everyone ...  positive\n",
       "1      This is another notorious Mexican horror film:...  negative\n",
       "2      Skippy from Family Ties goes from clean-cut to...  positive\n",
       "3      Unlike Terms of Endearment and Steel Magnolia'...  negative\n",
       "4      I have seen most of the Tarzan episodes. Certa...  positive\n",
       "...                                                  ...       ...\n",
       "39995  Others have harped here about James Stewart's ...  positive\n",
       "39996  Most likely \"Cleopatra 2525\" will be of little...  negative\n",
       "39997  Jim Henson's Muppets were a favorite of mine s...  positive\n",
       "39998  I agree with \"johnlewis\", who said that there ...  positive\n",
       "39999  Very few so called \"remakes\" can be as good as...  positive\n",
       "\n",
       "[40000 rows x 2 columns]"
      ]
     },
     "execution_count": 6,
     "metadata": {},
     "output_type": "execute_result"
    }
   ],
   "source": [
    "reviews_data"
   ]
  },
  {
   "cell_type": "code",
   "execution_count": 7,
   "id": "ced1839a",
   "metadata": {},
   "outputs": [
    {
     "data": {
      "text/html": [
       "<div>\n",
       "<style scoped>\n",
       "    .dataframe tbody tr th:only-of-type {\n",
       "        vertical-align: middle;\n",
       "    }\n",
       "\n",
       "    .dataframe tbody tr th {\n",
       "        vertical-align: top;\n",
       "    }\n",
       "\n",
       "    .dataframe thead th {\n",
       "        text-align: right;\n",
       "    }\n",
       "</style>\n",
       "<table border=\"1\" class=\"dataframe\">\n",
       "  <thead>\n",
       "    <tr style=\"text-align: right;\">\n",
       "      <th></th>\n",
       "      <th>review</th>\n",
       "      <th>sentiment</th>\n",
       "    </tr>\n",
       "  </thead>\n",
       "  <tbody>\n",
       "    <tr>\n",
       "      <th>0</th>\n",
       "      <td>It reaches the minds and feelings of everyone ...</td>\n",
       "      <td>positive</td>\n",
       "    </tr>\n",
       "    <tr>\n",
       "      <th>1</th>\n",
       "      <td>This is another notorious Mexican horror film:...</td>\n",
       "      <td>negative</td>\n",
       "    </tr>\n",
       "    <tr>\n",
       "      <th>2</th>\n",
       "      <td>Skippy from Family Ties goes from clean-cut to...</td>\n",
       "      <td>positive</td>\n",
       "    </tr>\n",
       "    <tr>\n",
       "      <th>3</th>\n",
       "      <td>Unlike Terms of Endearment and Steel Magnolia'...</td>\n",
       "      <td>negative</td>\n",
       "    </tr>\n",
       "    <tr>\n",
       "      <th>4</th>\n",
       "      <td>I have seen most of the Tarzan episodes. Certa...</td>\n",
       "      <td>positive</td>\n",
       "    </tr>\n",
       "  </tbody>\n",
       "</table>\n",
       "</div>"
      ],
      "text/plain": [
       "                                              review sentiment\n",
       "0  It reaches the minds and feelings of everyone ...  positive\n",
       "1  This is another notorious Mexican horror film:...  negative\n",
       "2  Skippy from Family Ties goes from clean-cut to...  positive\n",
       "3  Unlike Terms of Endearment and Steel Magnolia'...  negative\n",
       "4  I have seen most of the Tarzan episodes. Certa...  positive"
      ]
     },
     "execution_count": 7,
     "metadata": {},
     "output_type": "execute_result"
    }
   ],
   "source": [
    "reviews_data.head()"
   ]
  },
  {
   "cell_type": "code",
   "execution_count": 8,
   "id": "0bc38fae",
   "metadata": {},
   "outputs": [
    {
     "data": {
      "text/html": [
       "<div>\n",
       "<style scoped>\n",
       "    .dataframe tbody tr th:only-of-type {\n",
       "        vertical-align: middle;\n",
       "    }\n",
       "\n",
       "    .dataframe tbody tr th {\n",
       "        vertical-align: top;\n",
       "    }\n",
       "\n",
       "    .dataframe thead th {\n",
       "        text-align: right;\n",
       "    }\n",
       "</style>\n",
       "<table border=\"1\" class=\"dataframe\">\n",
       "  <thead>\n",
       "    <tr style=\"text-align: right;\">\n",
       "      <th></th>\n",
       "      <th>review</th>\n",
       "      <th>sentiment</th>\n",
       "    </tr>\n",
       "  </thead>\n",
       "  <tbody>\n",
       "    <tr>\n",
       "      <th>39995</th>\n",
       "      <td>Others have harped here about James Stewart's ...</td>\n",
       "      <td>positive</td>\n",
       "    </tr>\n",
       "    <tr>\n",
       "      <th>39996</th>\n",
       "      <td>Most likely \"Cleopatra 2525\" will be of little...</td>\n",
       "      <td>negative</td>\n",
       "    </tr>\n",
       "    <tr>\n",
       "      <th>39997</th>\n",
       "      <td>Jim Henson's Muppets were a favorite of mine s...</td>\n",
       "      <td>positive</td>\n",
       "    </tr>\n",
       "    <tr>\n",
       "      <th>39998</th>\n",
       "      <td>I agree with \"johnlewis\", who said that there ...</td>\n",
       "      <td>positive</td>\n",
       "    </tr>\n",
       "    <tr>\n",
       "      <th>39999</th>\n",
       "      <td>Very few so called \"remakes\" can be as good as...</td>\n",
       "      <td>positive</td>\n",
       "    </tr>\n",
       "  </tbody>\n",
       "</table>\n",
       "</div>"
      ],
      "text/plain": [
       "                                                  review sentiment\n",
       "39995  Others have harped here about James Stewart's ...  positive\n",
       "39996  Most likely \"Cleopatra 2525\" will be of little...  negative\n",
       "39997  Jim Henson's Muppets were a favorite of mine s...  positive\n",
       "39998  I agree with \"johnlewis\", who said that there ...  positive\n",
       "39999  Very few so called \"remakes\" can be as good as...  positive"
      ]
     },
     "execution_count": 8,
     "metadata": {},
     "output_type": "execute_result"
    }
   ],
   "source": [
    "reviews_data.tail()"
   ]
  },
  {
   "cell_type": "code",
   "execution_count": 9,
   "id": "56c27e96",
   "metadata": {},
   "outputs": [
    {
     "data": {
      "text/plain": [
       "positive    20025\n",
       "negative    19975\n",
       "Name: sentiment, dtype: int64"
      ]
     },
     "execution_count": 9,
     "metadata": {},
     "output_type": "execute_result"
    }
   ],
   "source": [
    "reviews_data.sentiment.value_counts()"
   ]
  },
  {
   "cell_type": "markdown",
   "id": "f4c4e5c9",
   "metadata": {},
   "source": [
    "#### I see that there are Forty thousand rows and two columns. One column name is labeled review which contains review/opinion of movie or movies. There is another column which is labeled sentiment which suggests that a particular review is positive or negative."
   ]
  },
  {
   "cell_type": "code",
   "execution_count": 10,
   "id": "302374c2",
   "metadata": {},
   "outputs": [
    {
     "name": "stdout",
     "output_type": "stream",
     "text": [
      "<class 'pandas.core.frame.DataFrame'>\n",
      "RangeIndex: 40000 entries, 0 to 39999\n",
      "Data columns (total 2 columns):\n",
      " #   Column     Non-Null Count  Dtype \n",
      "---  ------     --------------  ----- \n",
      " 0   review     40000 non-null  object\n",
      " 1   sentiment  40000 non-null  object\n",
      "dtypes: object(2)\n",
      "memory usage: 625.1+ KB\n"
     ]
    }
   ],
   "source": [
    "reviews_data.info()"
   ]
  },
  {
   "cell_type": "code",
   "execution_count": 11,
   "id": "1034197c",
   "metadata": {},
   "outputs": [
    {
     "data": {
      "text/html": [
       "<div>\n",
       "<style scoped>\n",
       "    .dataframe tbody tr th:only-of-type {\n",
       "        vertical-align: middle;\n",
       "    }\n",
       "\n",
       "    .dataframe tbody tr th {\n",
       "        vertical-align: top;\n",
       "    }\n",
       "\n",
       "    .dataframe thead th {\n",
       "        text-align: right;\n",
       "    }\n",
       "</style>\n",
       "<table border=\"1\" class=\"dataframe\">\n",
       "  <thead>\n",
       "    <tr style=\"text-align: right;\">\n",
       "      <th></th>\n",
       "      <th>review</th>\n",
       "      <th>sentiment</th>\n",
       "    </tr>\n",
       "  </thead>\n",
       "  <tbody>\n",
       "    <tr>\n",
       "      <th>count</th>\n",
       "      <td>40000</td>\n",
       "      <td>40000</td>\n",
       "    </tr>\n",
       "    <tr>\n",
       "      <th>unique</th>\n",
       "      <td>39738</td>\n",
       "      <td>2</td>\n",
       "    </tr>\n",
       "    <tr>\n",
       "      <th>top</th>\n",
       "      <td>Loved today's show!!! It was a variety and not...</td>\n",
       "      <td>positive</td>\n",
       "    </tr>\n",
       "    <tr>\n",
       "      <th>freq</th>\n",
       "      <td>5</td>\n",
       "      <td>20025</td>\n",
       "    </tr>\n",
       "  </tbody>\n",
       "</table>\n",
       "</div>"
      ],
      "text/plain": [
       "                                                   review sentiment\n",
       "count                                               40000     40000\n",
       "unique                                              39738         2\n",
       "top     Loved today's show!!! It was a variety and not...  positive\n",
       "freq                                                    5     20025"
      ]
     },
     "execution_count": 11,
     "metadata": {},
     "output_type": "execute_result"
    }
   ],
   "source": [
    "reviews_data.describe()"
   ]
  },
  {
   "cell_type": "code",
   "execution_count": 12,
   "id": "1ba9b3cd",
   "metadata": {},
   "outputs": [
    {
     "data": {
      "text/plain": [
       "39738"
      ]
     },
     "execution_count": 12,
     "metadata": {},
     "output_type": "execute_result"
    }
   ],
   "source": [
    "len(set(reviews_data.review))"
   ]
  },
  {
   "cell_type": "code",
   "execution_count": 13,
   "id": "36022491",
   "metadata": {},
   "outputs": [
    {
     "data": {
      "text/plain": [
       "40000"
      ]
     },
     "execution_count": 13,
     "metadata": {},
     "output_type": "execute_result"
    }
   ],
   "source": [
    "len(reviews_data)"
   ]
  },
  {
   "cell_type": "code",
   "execution_count": 14,
   "id": "fc5590ee",
   "metadata": {},
   "outputs": [
    {
     "data": {
      "text/plain": [
       "262"
      ]
     },
     "execution_count": 14,
     "metadata": {},
     "output_type": "execute_result"
    }
   ],
   "source": [
    "duplicate_values = len(reviews_data) - len(set(reviews_data.review))\n",
    "duplicate_values"
   ]
  },
  {
   "cell_type": "markdown",
   "id": "f6ba485f",
   "metadata": {},
   "source": [
    "#### There are no null values in review column and there are 262 duplicate reviews"
   ]
  },
  {
   "cell_type": "markdown",
   "id": "10e7bce6",
   "metadata": {},
   "source": [
    "### Dropping Duplicate values from review column"
   ]
  },
  {
   "cell_type": "code",
   "execution_count": 15,
   "id": "79e7cc49",
   "metadata": {},
   "outputs": [],
   "source": [
    "reviews_data.drop_duplicates(subset=['review'], inplace = True)"
   ]
  },
  {
   "cell_type": "code",
   "execution_count": 16,
   "id": "43d840ba",
   "metadata": {},
   "outputs": [
    {
     "data": {
      "text/html": [
       "<div>\n",
       "<style scoped>\n",
       "    .dataframe tbody tr th:only-of-type {\n",
       "        vertical-align: middle;\n",
       "    }\n",
       "\n",
       "    .dataframe tbody tr th {\n",
       "        vertical-align: top;\n",
       "    }\n",
       "\n",
       "    .dataframe thead th {\n",
       "        text-align: right;\n",
       "    }\n",
       "</style>\n",
       "<table border=\"1\" class=\"dataframe\">\n",
       "  <thead>\n",
       "    <tr style=\"text-align: right;\">\n",
       "      <th></th>\n",
       "      <th>review</th>\n",
       "      <th>sentiment</th>\n",
       "    </tr>\n",
       "  </thead>\n",
       "  <tbody>\n",
       "    <tr>\n",
       "      <th>count</th>\n",
       "      <td>39738</td>\n",
       "      <td>39738</td>\n",
       "    </tr>\n",
       "    <tr>\n",
       "      <th>unique</th>\n",
       "      <td>39738</td>\n",
       "      <td>2</td>\n",
       "    </tr>\n",
       "    <tr>\n",
       "      <th>top</th>\n",
       "      <td>It reaches the minds and feelings of everyone ...</td>\n",
       "      <td>positive</td>\n",
       "    </tr>\n",
       "    <tr>\n",
       "      <th>freq</th>\n",
       "      <td>1</td>\n",
       "      <td>19953</td>\n",
       "    </tr>\n",
       "  </tbody>\n",
       "</table>\n",
       "</div>"
      ],
      "text/plain": [
       "                                                   review sentiment\n",
       "count                                               39738     39738\n",
       "unique                                              39738         2\n",
       "top     It reaches the minds and feelings of everyone ...  positive\n",
       "freq                                                    1     19953"
      ]
     },
     "execution_count": 16,
     "metadata": {},
     "output_type": "execute_result"
    }
   ],
   "source": [
    "reviews_data.describe()"
   ]
  },
  {
   "cell_type": "code",
   "execution_count": 17,
   "id": "9b464010",
   "metadata": {},
   "outputs": [
    {
     "data": {
      "text/html": [
       "<div>\n",
       "<style scoped>\n",
       "    .dataframe tbody tr th:only-of-type {\n",
       "        vertical-align: middle;\n",
       "    }\n",
       "\n",
       "    .dataframe tbody tr th {\n",
       "        vertical-align: top;\n",
       "    }\n",
       "\n",
       "    .dataframe thead th {\n",
       "        text-align: right;\n",
       "    }\n",
       "</style>\n",
       "<table border=\"1\" class=\"dataframe\">\n",
       "  <thead>\n",
       "    <tr style=\"text-align: right;\">\n",
       "      <th></th>\n",
       "      <th>review</th>\n",
       "      <th>sentiment</th>\n",
       "    </tr>\n",
       "  </thead>\n",
       "  <tbody>\n",
       "    <tr>\n",
       "      <th>0</th>\n",
       "      <td>It reaches the minds and feelings of everyone ...</td>\n",
       "      <td>positive</td>\n",
       "    </tr>\n",
       "    <tr>\n",
       "      <th>1</th>\n",
       "      <td>This is another notorious Mexican horror film:...</td>\n",
       "      <td>negative</td>\n",
       "    </tr>\n",
       "    <tr>\n",
       "      <th>2</th>\n",
       "      <td>Skippy from Family Ties goes from clean-cut to...</td>\n",
       "      <td>positive</td>\n",
       "    </tr>\n",
       "    <tr>\n",
       "      <th>3</th>\n",
       "      <td>Unlike Terms of Endearment and Steel Magnolia'...</td>\n",
       "      <td>negative</td>\n",
       "    </tr>\n",
       "    <tr>\n",
       "      <th>4</th>\n",
       "      <td>I have seen most of the Tarzan episodes. Certa...</td>\n",
       "      <td>positive</td>\n",
       "    </tr>\n",
       "    <tr>\n",
       "      <th>...</th>\n",
       "      <td>...</td>\n",
       "      <td>...</td>\n",
       "    </tr>\n",
       "    <tr>\n",
       "      <th>39995</th>\n",
       "      <td>Others have harped here about James Stewart's ...</td>\n",
       "      <td>positive</td>\n",
       "    </tr>\n",
       "    <tr>\n",
       "      <th>39996</th>\n",
       "      <td>Most likely \"Cleopatra 2525\" will be of little...</td>\n",
       "      <td>negative</td>\n",
       "    </tr>\n",
       "    <tr>\n",
       "      <th>39997</th>\n",
       "      <td>Jim Henson's Muppets were a favorite of mine s...</td>\n",
       "      <td>positive</td>\n",
       "    </tr>\n",
       "    <tr>\n",
       "      <th>39998</th>\n",
       "      <td>I agree with \"johnlewis\", who said that there ...</td>\n",
       "      <td>positive</td>\n",
       "    </tr>\n",
       "    <tr>\n",
       "      <th>39999</th>\n",
       "      <td>Very few so called \"remakes\" can be as good as...</td>\n",
       "      <td>positive</td>\n",
       "    </tr>\n",
       "  </tbody>\n",
       "</table>\n",
       "<p>39738 rows × 2 columns</p>\n",
       "</div>"
      ],
      "text/plain": [
       "                                                  review sentiment\n",
       "0      It reaches the minds and feelings of everyone ...  positive\n",
       "1      This is another notorious Mexican horror film:...  negative\n",
       "2      Skippy from Family Ties goes from clean-cut to...  positive\n",
       "3      Unlike Terms of Endearment and Steel Magnolia'...  negative\n",
       "4      I have seen most of the Tarzan episodes. Certa...  positive\n",
       "...                                                  ...       ...\n",
       "39995  Others have harped here about James Stewart's ...  positive\n",
       "39996  Most likely \"Cleopatra 2525\" will be of little...  negative\n",
       "39997  Jim Henson's Muppets were a favorite of mine s...  positive\n",
       "39998  I agree with \"johnlewis\", who said that there ...  positive\n",
       "39999  Very few so called \"remakes\" can be as good as...  positive\n",
       "\n",
       "[39738 rows x 2 columns]"
      ]
     },
     "execution_count": 17,
     "metadata": {},
     "output_type": "execute_result"
    }
   ],
   "source": [
    "reviews_data"
   ]
  },
  {
   "cell_type": "markdown",
   "id": "99894e71",
   "metadata": {},
   "source": [
    "### Plot Bar Graph"
   ]
  },
  {
   "cell_type": "code",
   "execution_count": 18,
   "id": "3b92ee94",
   "metadata": {},
   "outputs": [
    {
     "data": {
      "text/plain": [
       "<AxesSubplot: xlabel='sentiment', ylabel='count'>"
      ]
     },
     "execution_count": 18,
     "metadata": {},
     "output_type": "execute_result"
    },
    {
     "data": {
      "image/png": "[encoded data removed]",
      "text/plain": [
       "<Figure size 640x480 with 1 Axes>"
      ]
     },
     "metadata": {},
     "output_type": "display_data"
    }
   ],
   "source": [
    "sns.countplot(x = reviews_data['sentiment'])"
   ]
  },
  {
   "cell_type": "code",
   "execution_count": 19,
   "id": "4ca9283d",
   "metadata": {},
   "outputs": [
    {
     "data": {
      "text/plain": [
       "positive    19953\n",
       "negative    19785\n",
       "Name: sentiment, dtype: int64"
      ]
     },
     "execution_count": 19,
     "metadata": {},
     "output_type": "execute_result"
    }
   ],
   "source": [
    "reviews_data.sentiment.value_counts()"
   ]
  },
  {
   "cell_type": "markdown",
   "id": "2c501206",
   "metadata": {},
   "source": [
    "### There are 19953 positive reviews and 19785 negative reviews"
   ]
  },
  {
   "cell_type": "markdown",
   "id": "ad5a7126",
   "metadata": {},
   "source": [
    "## Seperate Positive and Negative reviews"
   ]
  },
  {
   "cell_type": "code",
   "execution_count": 20,
   "id": "ccd56a6e",
   "metadata": {},
   "outputs": [
    {
     "data": {
      "text/html": [
       "<div>\n",
       "<style scoped>\n",
       "    .dataframe tbody tr th:only-of-type {\n",
       "        vertical-align: middle;\n",
       "    }\n",
       "\n",
       "    .dataframe tbody tr th {\n",
       "        vertical-align: top;\n",
       "    }\n",
       "\n",
       "    .dataframe thead th {\n",
       "        text-align: right;\n",
       "    }\n",
       "</style>\n",
       "<table border=\"1\" class=\"dataframe\">\n",
       "  <thead>\n",
       "    <tr style=\"text-align: right;\">\n",
       "      <th></th>\n",
       "      <th>review</th>\n",
       "      <th>sentiment</th>\n",
       "    </tr>\n",
       "  </thead>\n",
       "  <tbody>\n",
       "    <tr>\n",
       "      <th>0</th>\n",
       "      <td>It reaches the minds and feelings of everyone ...</td>\n",
       "      <td>positive</td>\n",
       "    </tr>\n",
       "    <tr>\n",
       "      <th>2</th>\n",
       "      <td>Skippy from Family Ties goes from clean-cut to...</td>\n",
       "      <td>positive</td>\n",
       "    </tr>\n",
       "    <tr>\n",
       "      <th>4</th>\n",
       "      <td>I have seen most of the Tarzan episodes. Certa...</td>\n",
       "      <td>positive</td>\n",
       "    </tr>\n",
       "    <tr>\n",
       "      <th>5</th>\n",
       "      <td>Tremendous fun both as a film and as an excuse...</td>\n",
       "      <td>positive</td>\n",
       "    </tr>\n",
       "    <tr>\n",
       "      <th>6</th>\n",
       "      <td>This zippy and fun short from 1916 - the time ...</td>\n",
       "      <td>positive</td>\n",
       "    </tr>\n",
       "    <tr>\n",
       "      <th>...</th>\n",
       "      <td>...</td>\n",
       "      <td>...</td>\n",
       "    </tr>\n",
       "    <tr>\n",
       "      <th>39991</th>\n",
       "      <td>A country-boy Aussie-Rules player (Mat) goes t...</td>\n",
       "      <td>positive</td>\n",
       "    </tr>\n",
       "    <tr>\n",
       "      <th>39995</th>\n",
       "      <td>Others have harped here about James Stewart's ...</td>\n",
       "      <td>positive</td>\n",
       "    </tr>\n",
       "    <tr>\n",
       "      <th>39997</th>\n",
       "      <td>Jim Henson's Muppets were a favorite of mine s...</td>\n",
       "      <td>positive</td>\n",
       "    </tr>\n",
       "    <tr>\n",
       "      <th>39998</th>\n",
       "      <td>I agree with \"johnlewis\", who said that there ...</td>\n",
       "      <td>positive</td>\n",
       "    </tr>\n",
       "    <tr>\n",
       "      <th>39999</th>\n",
       "      <td>Very few so called \"remakes\" can be as good as...</td>\n",
       "      <td>positive</td>\n",
       "    </tr>\n",
       "  </tbody>\n",
       "</table>\n",
       "<p>19953 rows × 2 columns</p>\n",
       "</div>"
      ],
      "text/plain": [
       "                                                  review sentiment\n",
       "0      It reaches the minds and feelings of everyone ...  positive\n",
       "2      Skippy from Family Ties goes from clean-cut to...  positive\n",
       "4      I have seen most of the Tarzan episodes. Certa...  positive\n",
       "5      Tremendous fun both as a film and as an excuse...  positive\n",
       "6      This zippy and fun short from 1916 - the time ...  positive\n",
       "...                                                  ...       ...\n",
       "39991  A country-boy Aussie-Rules player (Mat) goes t...  positive\n",
       "39995  Others have harped here about James Stewart's ...  positive\n",
       "39997  Jim Henson's Muppets were a favorite of mine s...  positive\n",
       "39998  I agree with \"johnlewis\", who said that there ...  positive\n",
       "39999  Very few so called \"remakes\" can be as good as...  positive\n",
       "\n",
       "[19953 rows x 2 columns]"
      ]
     },
     "execution_count": 20,
     "metadata": {},
     "output_type": "execute_result"
    }
   ],
   "source": [
    "reviews_data.loc[reviews_data['sentiment'] == 'positive'] "
   ]
  },
  {
   "cell_type": "code",
   "execution_count": 21,
   "id": "785dd126",
   "metadata": {},
   "outputs": [
    {
     "data": {
      "text/plain": [
       "0        It reaches the minds and feelings of everyone ...\n",
       "2        Skippy from Family Ties goes from clean-cut to...\n",
       "4        I have seen most of the Tarzan episodes. Certa...\n",
       "5        Tremendous fun both as a film and as an excuse...\n",
       "6        This zippy and fun short from 1916 - the time ...\n",
       "                               ...                        \n",
       "39991    A country-boy Aussie-Rules player (Mat) goes t...\n",
       "39995    Others have harped here about James Stewart's ...\n",
       "39997    Jim Henson's Muppets were a favorite of mine s...\n",
       "39998    I agree with \"johnlewis\", who said that there ...\n",
       "39999    Very few so called \"remakes\" can be as good as...\n",
       "Name: review, Length: 19953, dtype: object"
      ]
     },
     "execution_count": 21,
     "metadata": {},
     "output_type": "execute_result"
    }
   ],
   "source": [
    "reviews_data.loc[reviews_data['sentiment'] == 'positive'].review"
   ]
  },
  {
   "cell_type": "code",
   "execution_count": 22,
   "id": "64d9c9b3",
   "metadata": {},
   "outputs": [],
   "source": [
    "all_positive_text = ' '.join(reviews_data.loc[reviews_data['sentiment'] == 'positive'].review)"
   ]
  },
  {
   "cell_type": "code",
   "execution_count": 23,
   "id": "881573f9",
   "metadata": {},
   "outputs": [
    {
     "data": {
      "text/plain": [
       "[('the', 261056),\n",
       " ('and', 137080),\n",
       " ('a', 128960),\n",
       " ('of', 120552),\n",
       " ('to', 103464),\n",
       " ('is', 87133),\n",
       " ('in', 76625),\n",
       " ('i', 53120),\n",
       " ('it', 51522),\n",
       " ('this', 51140)]"
      ]
     },
     "execution_count": 23,
     "metadata": {},
     "output_type": "execute_result"
    }
   ],
   "source": [
    "pos_list = all_positive_text.lower().split()\n",
    "pos_count = collections.Counter(pos_list)\n",
    "top_10_pos = pos_count.most_common(10)\n",
    "top_10_pos"
   ]
  },
  {
   "cell_type": "code",
   "execution_count": 24,
   "id": "a61bb582",
   "metadata": {
    "scrolled": true
   },
   "outputs": [
    {
     "data": {
      "text/html": [
       "<div>\n",
       "<style scoped>\n",
       "    .dataframe tbody tr th:only-of-type {\n",
       "        vertical-align: middle;\n",
       "    }\n",
       "\n",
       "    .dataframe tbody tr th {\n",
       "        vertical-align: top;\n",
       "    }\n",
       "\n",
       "    .dataframe thead th {\n",
       "        text-align: right;\n",
       "    }\n",
       "</style>\n",
       "<table border=\"1\" class=\"dataframe\">\n",
       "  <thead>\n",
       "    <tr style=\"text-align: right;\">\n",
       "      <th></th>\n",
       "      <th>review</th>\n",
       "      <th>sentiment</th>\n",
       "    </tr>\n",
       "  </thead>\n",
       "  <tbody>\n",
       "    <tr>\n",
       "      <th>1</th>\n",
       "      <td>This is another notorious Mexican horror film:...</td>\n",
       "      <td>negative</td>\n",
       "    </tr>\n",
       "    <tr>\n",
       "      <th>3</th>\n",
       "      <td>Unlike Terms of Endearment and Steel Magnolia'...</td>\n",
       "      <td>negative</td>\n",
       "    </tr>\n",
       "    <tr>\n",
       "      <th>7</th>\n",
       "      <td>I rented this movie on DVD. I knew that the mo...</td>\n",
       "      <td>negative</td>\n",
       "    </tr>\n",
       "    <tr>\n",
       "      <th>9</th>\n",
       "      <td>In order for a thriller to elicit fear, suspen...</td>\n",
       "      <td>negative</td>\n",
       "    </tr>\n",
       "    <tr>\n",
       "      <th>11</th>\n",
       "      <td>For the love of god please don't see this movi...</td>\n",
       "      <td>negative</td>\n",
       "    </tr>\n",
       "    <tr>\n",
       "      <th>...</th>\n",
       "      <td>...</td>\n",
       "      <td>...</td>\n",
       "    </tr>\n",
       "    <tr>\n",
       "      <th>39989</th>\n",
       "      <td>The Angry Red Planet (Quickie Review) &lt;br /&gt;&lt;b...</td>\n",
       "      <td>negative</td>\n",
       "    </tr>\n",
       "    <tr>\n",
       "      <th>39992</th>\n",
       "      <td>I rented this movie, knowing that it would be ...</td>\n",
       "      <td>negative</td>\n",
       "    </tr>\n",
       "    <tr>\n",
       "      <th>39993</th>\n",
       "      <td>I just watched The Incredible Melting Man for ...</td>\n",
       "      <td>negative</td>\n",
       "    </tr>\n",
       "    <tr>\n",
       "      <th>39994</th>\n",
       "      <td>I was looking forward to this flick. Being an ...</td>\n",
       "      <td>negative</td>\n",
       "    </tr>\n",
       "    <tr>\n",
       "      <th>39996</th>\n",
       "      <td>Most likely \"Cleopatra 2525\" will be of little...</td>\n",
       "      <td>negative</td>\n",
       "    </tr>\n",
       "  </tbody>\n",
       "</table>\n",
       "<p>19785 rows × 2 columns</p>\n",
       "</div>"
      ],
      "text/plain": [
       "                                                  review sentiment\n",
       "1      This is another notorious Mexican horror film:...  negative\n",
       "3      Unlike Terms of Endearment and Steel Magnolia'...  negative\n",
       "7      I rented this movie on DVD. I knew that the mo...  negative\n",
       "9      In order for a thriller to elicit fear, suspen...  negative\n",
       "11     For the love of god please don't see this movi...  negative\n",
       "...                                                  ...       ...\n",
       "39989  The Angry Red Planet (Quickie Review) <br /><b...  negative\n",
       "39992  I rented this movie, knowing that it would be ...  negative\n",
       "39993  I just watched The Incredible Melting Man for ...  negative\n",
       "39994  I was looking forward to this flick. Being an ...  negative\n",
       "39996  Most likely \"Cleopatra 2525\" will be of little...  negative\n",
       "\n",
       "[19785 rows x 2 columns]"
      ]
     },
     "execution_count": 24,
     "metadata": {},
     "output_type": "execute_result"
    }
   ],
   "source": [
    "reviews_data.loc[reviews_data['sentiment'] == 'negative']"
   ]
  },
  {
   "cell_type": "code",
   "execution_count": 25,
   "id": "0580a57d",
   "metadata": {},
   "outputs": [],
   "source": [
    "all_neg_text = ' '.join(reviews_data.loc[reviews_data['sentiment'] == 'negative'].review)"
   ]
  },
  {
   "cell_type": "code",
   "execution_count": 26,
   "id": "83c35b45",
   "metadata": {},
   "outputs": [
    {
     "data": {
      "text/plain": [
       "[('the', 247161),\n",
       " ('a', 123004),\n",
       " ('and', 112334),\n",
       " ('of', 107587),\n",
       " ('to', 106582),\n",
       " ('is', 75952),\n",
       " ('in', 66367),\n",
       " ('i', 59231),\n",
       " ('this', 58653),\n",
       " ('that', 52091)]"
      ]
     },
     "execution_count": 26,
     "metadata": {},
     "output_type": "execute_result"
    }
   ],
   "source": [
    "neg_list = all_neg_text.lower().split()\n",
    "neg_count = collections.Counter(neg_list)\n",
    "top_10_neg = neg_count.most_common(10)\n",
    "top_10_neg"
   ]
  },
  {
   "cell_type": "markdown",
   "id": "f52e884a",
   "metadata": {},
   "source": [
    "#### Right now not able to distinguish between positive and negative words as there are many stop words"
   ]
  },
  {
   "cell_type": "markdown",
   "id": "e80f1590",
   "metadata": {},
   "source": [
    "## Separate Positive reviews by removing non words"
   ]
  },
  {
   "cell_type": "code",
   "execution_count": 27,
   "id": "8b750e70",
   "metadata": {},
   "outputs": [],
   "source": [
    "## Convert words to lower case and split\n",
    "pos_list = all_positive_text.lower().split()\n",
    "\n",
    "# pattern = '<[^<]>+?'\n",
    "\n",
    "## Beautiful Soup object\n",
    "soup = BeautifulSoup(str(pos_list), 'html.parser')\n",
    "\n",
    "## Remove HTML Tags\n",
    "# non_HTML_pos = re.sub(pattern , \" \", str(pos_list))\n",
    "non_HTML_pos = soup.get_text()\n",
    "\n",
    "## Remove non words\n",
    "pos_data = re.sub(r'\\W+', ' ', non_HTML_pos)\n",
    "\n"
   ]
  },
  {
   "cell_type": "code",
   "execution_count": 28,
   "id": "cf97a4de",
   "metadata": {},
   "outputs": [],
   "source": [
    "# Tokenize the text\n",
    "tokens = word_tokenize(pos_data)\n",
    "\n",
    "##Remove stop words\n",
    "stop_words = set(stopwords.words('english'))\n",
    "filtered_pos_data = [word for word in tokens if word.lower() not in stop_words]\n",
    "\n",
    "# Initialize stemmer and lemmatizer\n",
    "stemmer = PorterStemmer()\n",
    "lemmatizer = WordNetLemmatizer()\n",
    "\n",
    "# Stemming\n",
    "stemmed_words = [stemmer.stem(token) for token in filtered_pos_data]\n",
    "\n",
    "# Lemmatization\n",
    "lemmatized_words = [lemmatizer.lemmatize(token) for token in filtered_pos_data]\n"
   ]
  },
  {
   "cell_type": "code",
   "execution_count": 29,
   "id": "87e4329d",
   "metadata": {},
   "outputs": [
    {
     "data": {
      "text/plain": [
       "[('film', 39815),\n",
       " ('movie', 35597),\n",
       " ('one', 22573),\n",
       " ('like', 14511),\n",
       " ('time', 13001),\n",
       " ('good', 12029),\n",
       " ('character', 11320),\n",
       " ('story', 11226),\n",
       " ('great', 10455),\n",
       " ('see', 10300)]"
      ]
     },
     "execution_count": 29,
     "metadata": {},
     "output_type": "execute_result"
    }
   ],
   "source": [
    "# pos_list = all_positive_text.lower().split()\n",
    "# pos_count = collections.Counter(pos_list)\n",
    "# top_10_pos = pos_count.most_common(10)\n",
    "# top_10_pos\n",
    "\n",
    "pos_count_lemma = collections.Counter(lemmatized_words)\n",
    "top_10_pos = pos_count_lemma.most_common(10)\n",
    "top_10_pos"
   ]
  },
  {
   "cell_type": "code",
   "execution_count": 30,
   "id": "6d1bf2f1",
   "metadata": {},
   "outputs": [
    {
     "data": {
      "text/html": [
       "<div>\n",
       "<style scoped>\n",
       "    .dataframe tbody tr th:only-of-type {\n",
       "        vertical-align: middle;\n",
       "    }\n",
       "\n",
       "    .dataframe tbody tr th {\n",
       "        vertical-align: top;\n",
       "    }\n",
       "\n",
       "    .dataframe thead th {\n",
       "        text-align: right;\n",
       "    }\n",
       "</style>\n",
       "<table border=\"1\" class=\"dataframe\">\n",
       "  <thead>\n",
       "    <tr style=\"text-align: right;\">\n",
       "      <th></th>\n",
       "      <th>word</th>\n",
       "      <th>frequency</th>\n",
       "    </tr>\n",
       "  </thead>\n",
       "  <tbody>\n",
       "    <tr>\n",
       "      <th>0</th>\n",
       "      <td>film</td>\n",
       "      <td>39815</td>\n",
       "    </tr>\n",
       "    <tr>\n",
       "      <th>1</th>\n",
       "      <td>movie</td>\n",
       "      <td>35597</td>\n",
       "    </tr>\n",
       "    <tr>\n",
       "      <th>2</th>\n",
       "      <td>one</td>\n",
       "      <td>22573</td>\n",
       "    </tr>\n",
       "    <tr>\n",
       "      <th>3</th>\n",
       "      <td>like</td>\n",
       "      <td>14511</td>\n",
       "    </tr>\n",
       "    <tr>\n",
       "      <th>4</th>\n",
       "      <td>time</td>\n",
       "      <td>13001</td>\n",
       "    </tr>\n",
       "    <tr>\n",
       "      <th>5</th>\n",
       "      <td>good</td>\n",
       "      <td>12029</td>\n",
       "    </tr>\n",
       "    <tr>\n",
       "      <th>6</th>\n",
       "      <td>character</td>\n",
       "      <td>11320</td>\n",
       "    </tr>\n",
       "    <tr>\n",
       "      <th>7</th>\n",
       "      <td>story</td>\n",
       "      <td>11226</td>\n",
       "    </tr>\n",
       "    <tr>\n",
       "      <th>8</th>\n",
       "      <td>great</td>\n",
       "      <td>10455</td>\n",
       "    </tr>\n",
       "    <tr>\n",
       "      <th>9</th>\n",
       "      <td>see</td>\n",
       "      <td>10300</td>\n",
       "    </tr>\n",
       "  </tbody>\n",
       "</table>\n",
       "</div>"
      ],
      "text/plain": [
       "        word  frequency\n",
       "0       film      39815\n",
       "1      movie      35597\n",
       "2        one      22573\n",
       "3       like      14511\n",
       "4       time      13001\n",
       "5       good      12029\n",
       "6  character      11320\n",
       "7      story      11226\n",
       "8      great      10455\n",
       "9        see      10300"
      ]
     },
     "execution_count": 30,
     "metadata": {},
     "output_type": "execute_result"
    }
   ],
   "source": [
    "pos_10_df = pd.DataFrame(top_10_pos)\n",
    "pos_10_df.rename(columns={0:'word', 1:'frequency'}, inplace = True)\n",
    "pos_10_df"
   ]
  },
  {
   "cell_type": "markdown",
   "id": "473a9c98",
   "metadata": {},
   "source": [
    "#### Words like good, great tell us that the reviews might be positive"
   ]
  },
  {
   "cell_type": "markdown",
   "id": "c0cfa3e4",
   "metadata": {},
   "source": [
    "## Separate Negative reviews by removing non words"
   ]
  },
  {
   "cell_type": "code",
   "execution_count": 31,
   "id": "c6c39bd2",
   "metadata": {},
   "outputs": [],
   "source": [
    "## Convert words to lower case and split\n",
    "neg_list = all_neg_text.lower().split()\n",
    "\n",
    "# pattern = '<[^<]>+?'\n",
    "\n",
    "## Beautiful Soup object\n",
    "soup = BeautifulSoup(str(neg_list), 'html.parser')\n",
    "\n",
    "## Remove HTML Tags\n",
    "# non_HTML_pos = re.sub(pattern , \" \", str(pos_list))\n",
    "non_HTML_neg = soup.get_text()\n",
    "\n",
    "## Remove non words\n",
    "neg_data = re.sub(r'\\W+', ' ', non_HTML_neg)\n",
    "\n"
   ]
  },
  {
   "cell_type": "code",
   "execution_count": 32,
   "id": "c8a26d8a",
   "metadata": {},
   "outputs": [],
   "source": [
    "# Tokenize the text\n",
    "tokens = word_tokenize(neg_data)\n",
    "\n",
    "##Remove stop words\n",
    "stop_words = set(stopwords.words('english'))\n",
    "filtered_neg_data = [word for word in tokens if word.lower() not in stop_words]\n",
    "\n",
    "# Initialize stemmer and lemmatizer\n",
    "stemmer = PorterStemmer()\n",
    "lemmatizer = WordNetLemmatizer()\n",
    "\n",
    "# Stemming\n",
    "stemmed_neg_words = [stemmer.stem(token) for token in filtered_neg_data]\n",
    "\n",
    "# Lemmatization\n",
    "lemmatized_neg_words = [lemmatizer.lemmatize(token) for token in filtered_neg_data]\n"
   ]
  },
  {
   "cell_type": "code",
   "execution_count": 33,
   "id": "f972a52b",
   "metadata": {},
   "outputs": [
    {
     "data": {
      "text/html": [
       "<div>\n",
       "<style scoped>\n",
       "    .dataframe tbody tr th:only-of-type {\n",
       "        vertical-align: middle;\n",
       "    }\n",
       "\n",
       "    .dataframe tbody tr th {\n",
       "        vertical-align: top;\n",
       "    }\n",
       "\n",
       "    .dataframe thead th {\n",
       "        text-align: right;\n",
       "    }\n",
       "</style>\n",
       "<table border=\"1\" class=\"dataframe\">\n",
       "  <thead>\n",
       "    <tr style=\"text-align: right;\">\n",
       "      <th></th>\n",
       "      <th>word</th>\n",
       "      <th>frequency</th>\n",
       "    </tr>\n",
       "  </thead>\n",
       "  <tbody>\n",
       "    <tr>\n",
       "      <th>0</th>\n",
       "      <td>movie</td>\n",
       "      <td>46154</td>\n",
       "    </tr>\n",
       "    <tr>\n",
       "      <th>1</th>\n",
       "      <td>film</td>\n",
       "      <td>34572</td>\n",
       "    </tr>\n",
       "    <tr>\n",
       "      <th>2</th>\n",
       "      <td>one</td>\n",
       "      <td>21467</td>\n",
       "    </tr>\n",
       "    <tr>\n",
       "      <th>3</th>\n",
       "      <td>like</td>\n",
       "      <td>18076</td>\n",
       "    </tr>\n",
       "    <tr>\n",
       "      <th>4</th>\n",
       "      <td>even</td>\n",
       "      <td>12105</td>\n",
       "    </tr>\n",
       "    <tr>\n",
       "      <th>5</th>\n",
       "      <td>time</td>\n",
       "      <td>11918</td>\n",
       "    </tr>\n",
       "    <tr>\n",
       "      <th>6</th>\n",
       "      <td>good</td>\n",
       "      <td>11771</td>\n",
       "    </tr>\n",
       "    <tr>\n",
       "      <th>7</th>\n",
       "      <td>bad</td>\n",
       "      <td>11753</td>\n",
       "    </tr>\n",
       "    <tr>\n",
       "      <th>8</th>\n",
       "      <td>character</td>\n",
       "      <td>11353</td>\n",
       "    </tr>\n",
       "    <tr>\n",
       "      <th>9</th>\n",
       "      <td>would</td>\n",
       "      <td>11038</td>\n",
       "    </tr>\n",
       "  </tbody>\n",
       "</table>\n",
       "</div>"
      ],
      "text/plain": [
       "        word  frequency\n",
       "0      movie      46154\n",
       "1       film      34572\n",
       "2        one      21467\n",
       "3       like      18076\n",
       "4       even      12105\n",
       "5       time      11918\n",
       "6       good      11771\n",
       "7        bad      11753\n",
       "8  character      11353\n",
       "9      would      11038"
      ]
     },
     "execution_count": 33,
     "metadata": {},
     "output_type": "execute_result"
    }
   ],
   "source": [
    "neg_count_lemma = collections.Counter(lemmatized_neg_words)\n",
    "top_10_neg = neg_count_lemma.most_common(10)\n",
    "neg_10_df = pd.DataFrame(top_10_neg)\n",
    "neg_10_df.rename(columns={0: 'word', 1:'frequency'},inplace= True)\n",
    "neg_10_df"
   ]
  },
  {
   "cell_type": "markdown",
   "id": "6a541868",
   "metadata": {},
   "source": [
    "#### Word \"bad\" tell us it is negative but there is word \"good\" as well, so cannot completely say that they are negative by looking at top 10 negative words"
   ]
  },
  {
   "cell_type": "markdown",
   "id": "0e288e94",
   "metadata": {},
   "source": [
    "### Bar Graph"
   ]
  },
  {
   "cell_type": "code",
   "execution_count": 34,
   "id": "e75fa628",
   "metadata": {},
   "outputs": [],
   "source": [
    "counts_pos = pos_10_df['frequency']"
   ]
  },
  {
   "cell_type": "code",
   "execution_count": 35,
   "id": "d7be3a6a",
   "metadata": {},
   "outputs": [
    {
     "data": {
      "image/png": "[encoded data removed]",
      "text/plain": [
       "<Figure size 1000x500 with 1 Axes>"
      ]
     },
     "metadata": {},
     "output_type": "display_data"
    }
   ],
   "source": [
    "fig = plt.figure(figsize = (10,5))\n",
    "\n",
    "plt.bar(pos_10_df['word'], counts_pos.values)\n",
    "plt.show()"
   ]
  },
  {
   "cell_type": "code",
   "execution_count": 36,
   "id": "99100345",
   "metadata": {},
   "outputs": [],
   "source": [
    "# fig = plt.figure(figsize = (10,5))\n",
    "\n",
    "# plt.bar(pos_10_df['word'], counts.values)\n",
    "# plt.show()"
   ]
  },
  {
   "cell_type": "code",
   "execution_count": 37,
   "id": "82704648",
   "metadata": {},
   "outputs": [],
   "source": [
    "counts_neg = neg_10_df['frequency']"
   ]
  },
  {
   "cell_type": "code",
   "execution_count": 38,
   "id": "5c14e58e",
   "metadata": {},
   "outputs": [
    {
     "data": {
      "image/png": "[encoded data removed]",
      "text/plain": [
       "<Figure size 1000x500 with 1 Axes>"
      ]
     },
     "metadata": {},
     "output_type": "display_data"
    }
   ],
   "source": [
    "fig = plt.figure(figsize = (10,5))\n",
    "\n",
    "plt.bar(neg_10_df['word'], counts_neg.values)\n",
    "plt.show()"
   ]
  },
  {
   "cell_type": "code",
   "execution_count": 39,
   "id": "9e884f33",
   "metadata": {},
   "outputs": [],
   "source": [
    "# ## Remove HTML Tags\n",
    "# # import re\n",
    "# # from sklearn.feature_extraction.text import CountVectorizer\n",
    "# # from gensim.parsing.preprocessing import remove_stopwords\n",
    "\n",
    "# pattern = '<[^<]>+?'\n",
    "# for i, value in reviews_data.review.iteritems():\n",
    "#     ## Remove HTML Tags\n",
    "#     non_HTML_data = re.sub(pattern , \" \", str(value))\n",
    "#     ## Remove non words\n",
    "#     data = re.sub(\"[^a-zA-Z]\",\" \", non_HTML_data)\n",
    "#     ## Convert words to lower case and split\n",
    "#     data = data.lower().split()\n",
    "#     data_string = \" \".join(data) ## Convert list to string\n",
    "#     ##Remove stop words\n",
    "#     filtered_data = remove_stopwords(data_string)\n",
    "#     reviews_data.at[i, 'Common_Words'] = filtered_data"
   ]
  },
  {
   "cell_type": "markdown",
   "id": "4e8ef027",
   "metadata": {},
   "source": [
    "### Extract common words"
   ]
  },
  {
   "cell_type": "code",
   "execution_count": 40,
   "id": "d0ae7bbc",
   "metadata": {},
   "outputs": [],
   "source": [
    "reviews_data['Cleaned_Reviews'] = None"
   ]
  },
  {
   "cell_type": "code",
   "execution_count": 41,
   "id": "d5169edb",
   "metadata": {},
   "outputs": [
    {
     "name": "stderr",
     "output_type": "stream",
     "text": [
      "/var/folders/k9/lb01bjlx50d4h_fh2nrld7sc0000gn/T/ipykernel_1481/2077971532.py:9: FutureWarning: iteritems is deprecated and will be removed in a future version. Use .items instead.\n",
      "  for i, value in reviews_data.review.iteritems():\n",
      "/Library/Frameworks/Python.framework/Versions/3.9/lib/python3.9/site-packages/bs4/__init__.py:435: MarkupResemblesLocatorWarning: The input looks more like a filename than markup. You may want to open this file and pass the filehandle into Beautiful Soup.\n",
      "  warnings.warn(\n"
     ]
    }
   ],
   "source": [
    "## Remove HTML Tags\n",
    "\n",
    "stop_words = set(stopwords.words('english'))\n",
    "\n",
    "## Initalize lemmatizer\n",
    "lemmatizer = WordNetLemmatizer()\n",
    "\n",
    "# pattern = '<[^<]>+?'\n",
    "for i, value in reviews_data.review.iteritems():\n",
    "    \n",
    "    ## Convert words to lower case and split\n",
    "    review_list = value.lower().split()\n",
    "\n",
    "    ##Beautiful Soup Object\n",
    "    soup = BeautifulSoup(str(review_list), 'html.parser')\n",
    "\n",
    "    ##Remove HTML tags\n",
    "    non_HTML_review = soup.get_text()\n",
    "\n",
    "    ##Remove non words\n",
    "    review_data = re.sub(r'\\W+', ' ',non_HTML_review)\n",
    "\n",
    "    ## Tokenize the text \n",
    "    tokens = word_tokenize(review_data)\n",
    "\n",
    "    ##Remove stop words\n",
    "    filtered_review_data = [word for word in tokens if word.lower() not in stop_words]\n",
    "\n",
    "    ##Lemmatization\n",
    "    lemmatized_words = [lemmatizer.lemmatize(token) for token in filtered_review_data]\n",
    "\n",
    "    ##Store in the dataframe\n",
    "    reviews_data.at[i, 'Cleaned_Reviews'] = lemmatized_words\n",
    "    \n",
    "#     ## Remove HTML Tags\n",
    "#     non_HTML_data = re.sub(pattern , \" \", str(value))\n",
    "#     ## Remove non words\n",
    "#     data = re.sub(\"[^a-zA-Z]\",\" \", non_HTML_data)\n",
    "#     ## Convert words to lower case and split\n",
    "#     data = data.lower().split()\n",
    "#     data_string = \" \".join(data) ## Convert list to string\n",
    "#     ##Remove stop words\n",
    "#     filtered_data = remove_stopwords(data_string)\n",
    "#     reviews_data.at[i, 'Common_Words'] = filtered_data"
   ]
  },
  {
   "cell_type": "code",
   "execution_count": 42,
   "id": "492b2159",
   "metadata": {},
   "outputs": [],
   "source": [
    "# x = re.sub(r'\\W+', ' ',non_HTML_review)\n",
    "# x"
   ]
  },
  {
   "cell_type": "code",
   "execution_count": 43,
   "id": "a0f82079",
   "metadata": {},
   "outputs": [
    {
     "data": {
      "text/html": [
       "<div>\n",
       "<style scoped>\n",
       "    .dataframe tbody tr th:only-of-type {\n",
       "        vertical-align: middle;\n",
       "    }\n",
       "\n",
       "    .dataframe tbody tr th {\n",
       "        vertical-align: top;\n",
       "    }\n",
       "\n",
       "    .dataframe thead th {\n",
       "        text-align: right;\n",
       "    }\n",
       "</style>\n",
       "<table border=\"1\" class=\"dataframe\">\n",
       "  <thead>\n",
       "    <tr style=\"text-align: right;\">\n",
       "      <th></th>\n",
       "      <th>review</th>\n",
       "      <th>sentiment</th>\n",
       "      <th>Cleaned_Reviews</th>\n",
       "    </tr>\n",
       "  </thead>\n",
       "  <tbody>\n",
       "    <tr>\n",
       "      <th>0</th>\n",
       "      <td>It reaches the minds and feelings of everyone ...</td>\n",
       "      <td>positive</td>\n",
       "      <td>[reach, mind, feeling, everyone, driving, deep...</td>\n",
       "    </tr>\n",
       "    <tr>\n",
       "      <th>1</th>\n",
       "      <td>This is another notorious Mexican horror film:...</td>\n",
       "      <td>negative</td>\n",
       "      <td>[another, notorious, mexican, horror, film, ho...</td>\n",
       "    </tr>\n",
       "    <tr>\n",
       "      <th>2</th>\n",
       "      <td>Skippy from Family Ties goes from clean-cut to...</td>\n",
       "      <td>positive</td>\n",
       "      <td>[skippy, family, tie, go, clean, cut, metal, k...</td>\n",
       "    </tr>\n",
       "    <tr>\n",
       "      <th>3</th>\n",
       "      <td>Unlike Terms of Endearment and Steel Magnolia'...</td>\n",
       "      <td>negative</td>\n",
       "      <td>[unlike, term, endearment, steel, magnolia, le...</td>\n",
       "    </tr>\n",
       "    <tr>\n",
       "      <th>4</th>\n",
       "      <td>I have seen most of the Tarzan episodes. Certa...</td>\n",
       "      <td>positive</td>\n",
       "      <td>[seen, tarzan, episode, certainly, rated, x, k...</td>\n",
       "    </tr>\n",
       "    <tr>\n",
       "      <th>...</th>\n",
       "      <td>...</td>\n",
       "      <td>...</td>\n",
       "      <td>...</td>\n",
       "    </tr>\n",
       "    <tr>\n",
       "      <th>39995</th>\n",
       "      <td>Others have harped here about James Stewart's ...</td>\n",
       "      <td>positive</td>\n",
       "      <td>[others, harped, james, stewart, age, playing,...</td>\n",
       "    </tr>\n",
       "    <tr>\n",
       "      <th>39996</th>\n",
       "      <td>Most likely \"Cleopatra 2525\" will be of little...</td>\n",
       "      <td>negative</td>\n",
       "      <td>[likely, cleopatra, 2525, little, interest, wa...</td>\n",
       "    </tr>\n",
       "    <tr>\n",
       "      <th>39997</th>\n",
       "      <td>Jim Henson's Muppets were a favorite of mine s...</td>\n",
       "      <td>positive</td>\n",
       "      <td>[jim, henson, muppets, favorite, mine, since, ...</td>\n",
       "    </tr>\n",
       "    <tr>\n",
       "      <th>39998</th>\n",
       "      <td>I agree with \"johnlewis\", who said that there ...</td>\n",
       "      <td>positive</td>\n",
       "      <td>[agree, johnlewis, said, lot, going, line, fil...</td>\n",
       "    </tr>\n",
       "    <tr>\n",
       "      <th>39999</th>\n",
       "      <td>Very few so called \"remakes\" can be as good as...</td>\n",
       "      <td>positive</td>\n",
       "      <td>[called, remake, good, original, one, cross, b...</td>\n",
       "    </tr>\n",
       "  </tbody>\n",
       "</table>\n",
       "<p>39738 rows × 3 columns</p>\n",
       "</div>"
      ],
      "text/plain": [
       "                                                  review sentiment  \\\n",
       "0      It reaches the minds and feelings of everyone ...  positive   \n",
       "1      This is another notorious Mexican horror film:...  negative   \n",
       "2      Skippy from Family Ties goes from clean-cut to...  positive   \n",
       "3      Unlike Terms of Endearment and Steel Magnolia'...  negative   \n",
       "4      I have seen most of the Tarzan episodes. Certa...  positive   \n",
       "...                                                  ...       ...   \n",
       "39995  Others have harped here about James Stewart's ...  positive   \n",
       "39996  Most likely \"Cleopatra 2525\" will be of little...  negative   \n",
       "39997  Jim Henson's Muppets were a favorite of mine s...  positive   \n",
       "39998  I agree with \"johnlewis\", who said that there ...  positive   \n",
       "39999  Very few so called \"remakes\" can be as good as...  positive   \n",
       "\n",
       "                                         Cleaned_Reviews  \n",
       "0      [reach, mind, feeling, everyone, driving, deep...  \n",
       "1      [another, notorious, mexican, horror, film, ho...  \n",
       "2      [skippy, family, tie, go, clean, cut, metal, k...  \n",
       "3      [unlike, term, endearment, steel, magnolia, le...  \n",
       "4      [seen, tarzan, episode, certainly, rated, x, k...  \n",
       "...                                                  ...  \n",
       "39995  [others, harped, james, stewart, age, playing,...  \n",
       "39996  [likely, cleopatra, 2525, little, interest, wa...  \n",
       "39997  [jim, henson, muppets, favorite, mine, since, ...  \n",
       "39998  [agree, johnlewis, said, lot, going, line, fil...  \n",
       "39999  [called, remake, good, original, one, cross, b...  \n",
       "\n",
       "[39738 rows x 3 columns]"
      ]
     },
     "execution_count": 43,
     "metadata": {},
     "output_type": "execute_result"
    }
   ],
   "source": [
    "reviews_data\n"
   ]
  },
  {
   "cell_type": "code",
   "execution_count": 44,
   "id": "d7134cc4",
   "metadata": {},
   "outputs": [
    {
     "name": "stderr",
     "output_type": "stream",
     "text": [
      "/var/folders/k9/lb01bjlx50d4h_fh2nrld7sc0000gn/T/ipykernel_1481/1126496771.py:1: FutureWarning: iteritems is deprecated and will be removed in a future version. Use .items instead.\n",
      "  for i, value in reviews_data.Cleaned_Reviews.iteritems():\n"
     ]
    }
   ],
   "source": [
    "for i, value in reviews_data.Cleaned_Reviews.iteritems():\n",
    "    reviews_data.at[i, 'Cleaned_Reviews'] = ' '.join(reviews_data.Cleaned_Reviews[i])"
   ]
  },
  {
   "cell_type": "code",
   "execution_count": 45,
   "id": "80740852",
   "metadata": {},
   "outputs": [
    {
     "data": {
      "text/html": [
       "<div>\n",
       "<style scoped>\n",
       "    .dataframe tbody tr th:only-of-type {\n",
       "        vertical-align: middle;\n",
       "    }\n",
       "\n",
       "    .dataframe tbody tr th {\n",
       "        vertical-align: top;\n",
       "    }\n",
       "\n",
       "    .dataframe thead th {\n",
       "        text-align: right;\n",
       "    }\n",
       "</style>\n",
       "<table border=\"1\" class=\"dataframe\">\n",
       "  <thead>\n",
       "    <tr style=\"text-align: right;\">\n",
       "      <th></th>\n",
       "      <th>review</th>\n",
       "      <th>sentiment</th>\n",
       "      <th>Cleaned_Reviews</th>\n",
       "    </tr>\n",
       "  </thead>\n",
       "  <tbody>\n",
       "    <tr>\n",
       "      <th>0</th>\n",
       "      <td>It reaches the minds and feelings of everyone ...</td>\n",
       "      <td>positive</td>\n",
       "      <td>reach mind feeling everyone driving deep black...</td>\n",
       "    </tr>\n",
       "    <tr>\n",
       "      <th>1</th>\n",
       "      <td>This is another notorious Mexican horror film:...</td>\n",
       "      <td>negative</td>\n",
       "      <td>another notorious mexican horror film however ...</td>\n",
       "    </tr>\n",
       "    <tr>\n",
       "      <th>2</th>\n",
       "      <td>Skippy from Family Ties goes from clean-cut to...</td>\n",
       "      <td>positive</td>\n",
       "      <td>skippy family tie go clean cut metal kid fairl...</td>\n",
       "    </tr>\n",
       "    <tr>\n",
       "      <th>3</th>\n",
       "      <td>Unlike Terms of Endearment and Steel Magnolia'...</td>\n",
       "      <td>negative</td>\n",
       "      <td>unlike term endearment steel magnolia left mov...</td>\n",
       "    </tr>\n",
       "    <tr>\n",
       "      <th>4</th>\n",
       "      <td>I have seen most of the Tarzan episodes. Certa...</td>\n",
       "      <td>positive</td>\n",
       "      <td>seen tarzan episode certainly rated x keeffe b...</td>\n",
       "    </tr>\n",
       "    <tr>\n",
       "      <th>...</th>\n",
       "      <td>...</td>\n",
       "      <td>...</td>\n",
       "      <td>...</td>\n",
       "    </tr>\n",
       "    <tr>\n",
       "      <th>39995</th>\n",
       "      <td>Others have harped here about James Stewart's ...</td>\n",
       "      <td>positive</td>\n",
       "      <td>others harped james stewart age playing lindbu...</td>\n",
       "    </tr>\n",
       "    <tr>\n",
       "      <th>39996</th>\n",
       "      <td>Most likely \"Cleopatra 2525\" will be of little...</td>\n",
       "      <td>negative</td>\n",
       "      <td>likely cleopatra 2525 little interest watch se...</td>\n",
       "    </tr>\n",
       "    <tr>\n",
       "      <th>39997</th>\n",
       "      <td>Jim Henson's Muppets were a favorite of mine s...</td>\n",
       "      <td>positive</td>\n",
       "      <td>jim henson muppets favorite mine since childho...</td>\n",
       "    </tr>\n",
       "    <tr>\n",
       "      <th>39998</th>\n",
       "      <td>I agree with \"johnlewis\", who said that there ...</td>\n",
       "      <td>positive</td>\n",
       "      <td>agree johnlewis said lot going line film think...</td>\n",
       "    </tr>\n",
       "    <tr>\n",
       "      <th>39999</th>\n",
       "      <td>Very few so called \"remakes\" can be as good as...</td>\n",
       "      <td>positive</td>\n",
       "      <td>called remake good original one cross border f...</td>\n",
       "    </tr>\n",
       "  </tbody>\n",
       "</table>\n",
       "<p>39738 rows × 3 columns</p>\n",
       "</div>"
      ],
      "text/plain": [
       "                                                  review sentiment  \\\n",
       "0      It reaches the minds and feelings of everyone ...  positive   \n",
       "1      This is another notorious Mexican horror film:...  negative   \n",
       "2      Skippy from Family Ties goes from clean-cut to...  positive   \n",
       "3      Unlike Terms of Endearment and Steel Magnolia'...  negative   \n",
       "4      I have seen most of the Tarzan episodes. Certa...  positive   \n",
       "...                                                  ...       ...   \n",
       "39995  Others have harped here about James Stewart's ...  positive   \n",
       "39996  Most likely \"Cleopatra 2525\" will be of little...  negative   \n",
       "39997  Jim Henson's Muppets were a favorite of mine s...  positive   \n",
       "39998  I agree with \"johnlewis\", who said that there ...  positive   \n",
       "39999  Very few so called \"remakes\" can be as good as...  positive   \n",
       "\n",
       "                                         Cleaned_Reviews  \n",
       "0      reach mind feeling everyone driving deep black...  \n",
       "1      another notorious mexican horror film however ...  \n",
       "2      skippy family tie go clean cut metal kid fairl...  \n",
       "3      unlike term endearment steel magnolia left mov...  \n",
       "4      seen tarzan episode certainly rated x keeffe b...  \n",
       "...                                                  ...  \n",
       "39995  others harped james stewart age playing lindbu...  \n",
       "39996  likely cleopatra 2525 little interest watch se...  \n",
       "39997  jim henson muppets favorite mine since childho...  \n",
       "39998  agree johnlewis said lot going line film think...  \n",
       "39999  called remake good original one cross border f...  \n",
       "\n",
       "[39738 rows x 3 columns]"
      ]
     },
     "execution_count": 45,
     "metadata": {},
     "output_type": "execute_result"
    }
   ],
   "source": [
    "reviews_data"
   ]
  },
  {
   "cell_type": "code",
   "execution_count": 46,
   "id": "87e1522a",
   "metadata": {},
   "outputs": [
    {
     "data": {
      "text/plain": [
       "0        reach mind feeling everyone driving deep black...\n",
       "1        another notorious mexican horror film however ...\n",
       "2        skippy family tie go clean cut metal kid fairl...\n",
       "3        unlike term endearment steel magnolia left mov...\n",
       "4        seen tarzan episode certainly rated x keeffe b...\n",
       "                               ...                        \n",
       "39995    others harped james stewart age playing lindbu...\n",
       "39996    likely cleopatra 2525 little interest watch se...\n",
       "39997    jim henson muppets favorite mine since childho...\n",
       "39998    agree johnlewis said lot going line film think...\n",
       "39999    called remake good original one cross border f...\n",
       "Name: Cleaned_Reviews, Length: 39738, dtype: object"
      ]
     },
     "execution_count": 46,
     "metadata": {},
     "output_type": "execute_result"
    }
   ],
   "source": [
    "features = reviews_data.iloc[:, 2]\n",
    "features"
   ]
  },
  {
   "cell_type": "code",
   "execution_count": 47,
   "id": "8581daf4",
   "metadata": {},
   "outputs": [
    {
     "data": {
      "text/html": [
       "<div>\n",
       "<style scoped>\n",
       "    .dataframe tbody tr th:only-of-type {\n",
       "        vertical-align: middle;\n",
       "    }\n",
       "\n",
       "    .dataframe tbody tr th {\n",
       "        vertical-align: top;\n",
       "    }\n",
       "\n",
       "    .dataframe thead th {\n",
       "        text-align: right;\n",
       "    }\n",
       "</style>\n",
       "<table border=\"1\" class=\"dataframe\">\n",
       "  <thead>\n",
       "    <tr style=\"text-align: right;\">\n",
       "      <th></th>\n",
       "      <th>review</th>\n",
       "      <th>sentiment</th>\n",
       "      <th>Cleaned_Reviews</th>\n",
       "    </tr>\n",
       "  </thead>\n",
       "  <tbody>\n",
       "    <tr>\n",
       "      <th>0</th>\n",
       "      <td>It reaches the minds and feelings of everyone ...</td>\n",
       "      <td>positive</td>\n",
       "      <td>reach mind feeling everyone driving deep black...</td>\n",
       "    </tr>\n",
       "    <tr>\n",
       "      <th>1</th>\n",
       "      <td>This is another notorious Mexican horror film:...</td>\n",
       "      <td>negative</td>\n",
       "      <td>another notorious mexican horror film however ...</td>\n",
       "    </tr>\n",
       "    <tr>\n",
       "      <th>2</th>\n",
       "      <td>Skippy from Family Ties goes from clean-cut to...</td>\n",
       "      <td>positive</td>\n",
       "      <td>skippy family tie go clean cut metal kid fairl...</td>\n",
       "    </tr>\n",
       "    <tr>\n",
       "      <th>3</th>\n",
       "      <td>Unlike Terms of Endearment and Steel Magnolia'...</td>\n",
       "      <td>negative</td>\n",
       "      <td>unlike term endearment steel magnolia left mov...</td>\n",
       "    </tr>\n",
       "    <tr>\n",
       "      <th>4</th>\n",
       "      <td>I have seen most of the Tarzan episodes. Certa...</td>\n",
       "      <td>positive</td>\n",
       "      <td>seen tarzan episode certainly rated x keeffe b...</td>\n",
       "    </tr>\n",
       "    <tr>\n",
       "      <th>...</th>\n",
       "      <td>...</td>\n",
       "      <td>...</td>\n",
       "      <td>...</td>\n",
       "    </tr>\n",
       "    <tr>\n",
       "      <th>39995</th>\n",
       "      <td>Others have harped here about James Stewart's ...</td>\n",
       "      <td>positive</td>\n",
       "      <td>others harped james stewart age playing lindbu...</td>\n",
       "    </tr>\n",
       "    <tr>\n",
       "      <th>39996</th>\n",
       "      <td>Most likely \"Cleopatra 2525\" will be of little...</td>\n",
       "      <td>negative</td>\n",
       "      <td>likely cleopatra 2525 little interest watch se...</td>\n",
       "    </tr>\n",
       "    <tr>\n",
       "      <th>39997</th>\n",
       "      <td>Jim Henson's Muppets were a favorite of mine s...</td>\n",
       "      <td>positive</td>\n",
       "      <td>jim henson muppets favorite mine since childho...</td>\n",
       "    </tr>\n",
       "    <tr>\n",
       "      <th>39998</th>\n",
       "      <td>I agree with \"johnlewis\", who said that there ...</td>\n",
       "      <td>positive</td>\n",
       "      <td>agree johnlewis said lot going line film think...</td>\n",
       "    </tr>\n",
       "    <tr>\n",
       "      <th>39999</th>\n",
       "      <td>Very few so called \"remakes\" can be as good as...</td>\n",
       "      <td>positive</td>\n",
       "      <td>called remake good original one cross border f...</td>\n",
       "    </tr>\n",
       "  </tbody>\n",
       "</table>\n",
       "<p>39738 rows × 3 columns</p>\n",
       "</div>"
      ],
      "text/plain": [
       "                                                  review sentiment  \\\n",
       "0      It reaches the minds and feelings of everyone ...  positive   \n",
       "1      This is another notorious Mexican horror film:...  negative   \n",
       "2      Skippy from Family Ties goes from clean-cut to...  positive   \n",
       "3      Unlike Terms of Endearment and Steel Magnolia'...  negative   \n",
       "4      I have seen most of the Tarzan episodes. Certa...  positive   \n",
       "...                                                  ...       ...   \n",
       "39995  Others have harped here about James Stewart's ...  positive   \n",
       "39996  Most likely \"Cleopatra 2525\" will be of little...  negative   \n",
       "39997  Jim Henson's Muppets were a favorite of mine s...  positive   \n",
       "39998  I agree with \"johnlewis\", who said that there ...  positive   \n",
       "39999  Very few so called \"remakes\" can be as good as...  positive   \n",
       "\n",
       "                                         Cleaned_Reviews  \n",
       "0      reach mind feeling everyone driving deep black...  \n",
       "1      another notorious mexican horror film however ...  \n",
       "2      skippy family tie go clean cut metal kid fairl...  \n",
       "3      unlike term endearment steel magnolia left mov...  \n",
       "4      seen tarzan episode certainly rated x keeffe b...  \n",
       "...                                                  ...  \n",
       "39995  others harped james stewart age playing lindbu...  \n",
       "39996  likely cleopatra 2525 little interest watch se...  \n",
       "39997  jim henson muppets favorite mine since childho...  \n",
       "39998  agree johnlewis said lot going line film think...  \n",
       "39999  called remake good original one cross border f...  \n",
       "\n",
       "[39738 rows x 3 columns]"
      ]
     },
     "execution_count": 47,
     "metadata": {},
     "output_type": "execute_result"
    }
   ],
   "source": [
    "reviews_data"
   ]
  },
  {
   "cell_type": "code",
   "execution_count": 48,
   "id": "85b0844e",
   "metadata": {},
   "outputs": [
    {
     "data": {
      "text/html": [
       "<div>\n",
       "<style scoped>\n",
       "    .dataframe tbody tr th:only-of-type {\n",
       "        vertical-align: middle;\n",
       "    }\n",
       "\n",
       "    .dataframe tbody tr th {\n",
       "        vertical-align: top;\n",
       "    }\n",
       "\n",
       "    .dataframe thead th {\n",
       "        text-align: right;\n",
       "    }\n",
       "</style>\n",
       "<table border=\"1\" class=\"dataframe\">\n",
       "  <thead>\n",
       "    <tr style=\"text-align: right;\">\n",
       "      <th></th>\n",
       "      <th>review</th>\n",
       "      <th>sentiment</th>\n",
       "      <th>Cleaned_Reviews</th>\n",
       "    </tr>\n",
       "  </thead>\n",
       "  <tbody>\n",
       "    <tr>\n",
       "      <th>0</th>\n",
       "      <td>It reaches the minds and feelings of everyone ...</td>\n",
       "      <td>1</td>\n",
       "      <td>reach mind feeling everyone driving deep black...</td>\n",
       "    </tr>\n",
       "    <tr>\n",
       "      <th>1</th>\n",
       "      <td>This is another notorious Mexican horror film:...</td>\n",
       "      <td>0</td>\n",
       "      <td>another notorious mexican horror film however ...</td>\n",
       "    </tr>\n",
       "    <tr>\n",
       "      <th>2</th>\n",
       "      <td>Skippy from Family Ties goes from clean-cut to...</td>\n",
       "      <td>1</td>\n",
       "      <td>skippy family tie go clean cut metal kid fairl...</td>\n",
       "    </tr>\n",
       "    <tr>\n",
       "      <th>3</th>\n",
       "      <td>Unlike Terms of Endearment and Steel Magnolia'...</td>\n",
       "      <td>0</td>\n",
       "      <td>unlike term endearment steel magnolia left mov...</td>\n",
       "    </tr>\n",
       "    <tr>\n",
       "      <th>4</th>\n",
       "      <td>I have seen most of the Tarzan episodes. Certa...</td>\n",
       "      <td>1</td>\n",
       "      <td>seen tarzan episode certainly rated x keeffe b...</td>\n",
       "    </tr>\n",
       "    <tr>\n",
       "      <th>...</th>\n",
       "      <td>...</td>\n",
       "      <td>...</td>\n",
       "      <td>...</td>\n",
       "    </tr>\n",
       "    <tr>\n",
       "      <th>39995</th>\n",
       "      <td>Others have harped here about James Stewart's ...</td>\n",
       "      <td>1</td>\n",
       "      <td>others harped james stewart age playing lindbu...</td>\n",
       "    </tr>\n",
       "    <tr>\n",
       "      <th>39996</th>\n",
       "      <td>Most likely \"Cleopatra 2525\" will be of little...</td>\n",
       "      <td>0</td>\n",
       "      <td>likely cleopatra 2525 little interest watch se...</td>\n",
       "    </tr>\n",
       "    <tr>\n",
       "      <th>39997</th>\n",
       "      <td>Jim Henson's Muppets were a favorite of mine s...</td>\n",
       "      <td>1</td>\n",
       "      <td>jim henson muppets favorite mine since childho...</td>\n",
       "    </tr>\n",
       "    <tr>\n",
       "      <th>39998</th>\n",
       "      <td>I agree with \"johnlewis\", who said that there ...</td>\n",
       "      <td>1</td>\n",
       "      <td>agree johnlewis said lot going line film think...</td>\n",
       "    </tr>\n",
       "    <tr>\n",
       "      <th>39999</th>\n",
       "      <td>Very few so called \"remakes\" can be as good as...</td>\n",
       "      <td>1</td>\n",
       "      <td>called remake good original one cross border f...</td>\n",
       "    </tr>\n",
       "  </tbody>\n",
       "</table>\n",
       "<p>39738 rows × 3 columns</p>\n",
       "</div>"
      ],
      "text/plain": [
       "                                                  review  sentiment  \\\n",
       "0      It reaches the minds and feelings of everyone ...          1   \n",
       "1      This is another notorious Mexican horror film:...          0   \n",
       "2      Skippy from Family Ties goes from clean-cut to...          1   \n",
       "3      Unlike Terms of Endearment and Steel Magnolia'...          0   \n",
       "4      I have seen most of the Tarzan episodes. Certa...          1   \n",
       "...                                                  ...        ...   \n",
       "39995  Others have harped here about James Stewart's ...          1   \n",
       "39996  Most likely \"Cleopatra 2525\" will be of little...          0   \n",
       "39997  Jim Henson's Muppets were a favorite of mine s...          1   \n",
       "39998  I agree with \"johnlewis\", who said that there ...          1   \n",
       "39999  Very few so called \"remakes\" can be as good as...          1   \n",
       "\n",
       "                                         Cleaned_Reviews  \n",
       "0      reach mind feeling everyone driving deep black...  \n",
       "1      another notorious mexican horror film however ...  \n",
       "2      skippy family tie go clean cut metal kid fairl...  \n",
       "3      unlike term endearment steel magnolia left mov...  \n",
       "4      seen tarzan episode certainly rated x keeffe b...  \n",
       "...                                                  ...  \n",
       "39995  others harped james stewart age playing lindbu...  \n",
       "39996  likely cleopatra 2525 little interest watch se...  \n",
       "39997  jim henson muppets favorite mine since childho...  \n",
       "39998  agree johnlewis said lot going line film think...  \n",
       "39999  called remake good original one cross border f...  \n",
       "\n",
       "[39738 rows x 3 columns]"
      ]
     },
     "execution_count": 48,
     "metadata": {},
     "output_type": "execute_result"
    }
   ],
   "source": [
    "le = LabelEncoder()\n",
    "le.fit(reviews_data.sentiment)\n",
    "reviews_data.sentiment = le.transform(reviews_data.sentiment)\n",
    "reviews_data"
   ]
  },
  {
   "cell_type": "code",
   "execution_count": 49,
   "id": "324f08d7",
   "metadata": {},
   "outputs": [],
   "source": [
    "features = reviews_data.iloc[:, 2]\n",
    "target = reviews_data.iloc[:, 1]"
   ]
  },
  {
   "cell_type": "code",
   "execution_count": 50,
   "id": "c444a053",
   "metadata": {},
   "outputs": [
    {
     "data": {
      "text/plain": [
       "0        reach mind feeling everyone driving deep black...\n",
       "1        another notorious mexican horror film however ...\n",
       "2        skippy family tie go clean cut metal kid fairl...\n",
       "3        unlike term endearment steel magnolia left mov...\n",
       "4        seen tarzan episode certainly rated x keeffe b...\n",
       "                               ...                        \n",
       "39995    others harped james stewart age playing lindbu...\n",
       "39996    likely cleopatra 2525 little interest watch se...\n",
       "39997    jim henson muppets favorite mine since childho...\n",
       "39998    agree johnlewis said lot going line film think...\n",
       "39999    called remake good original one cross border f...\n",
       "Name: Cleaned_Reviews, Length: 39738, dtype: object"
      ]
     },
     "execution_count": 50,
     "metadata": {},
     "output_type": "execute_result"
    }
   ],
   "source": [
    "features"
   ]
  },
  {
   "cell_type": "code",
   "execution_count": 51,
   "id": "a10abc22",
   "metadata": {},
   "outputs": [
    {
     "data": {
      "text/plain": [
       "0        1\n",
       "1        0\n",
       "2        1\n",
       "3        0\n",
       "4        1\n",
       "        ..\n",
       "39995    1\n",
       "39996    0\n",
       "39997    1\n",
       "39998    1\n",
       "39999    1\n",
       "Name: sentiment, Length: 39738, dtype: int64"
      ]
     },
     "execution_count": 51,
     "metadata": {},
     "output_type": "execute_result"
    }
   ],
   "source": [
    "target"
   ]
  },
  {
   "cell_type": "code",
   "execution_count": 52,
   "id": "3fcc1f06",
   "metadata": {},
   "outputs": [],
   "source": [
    "vectorizer = CountVectorizer()\n",
    "\n",
    "X = vectorizer.fit_transform(features)"
   ]
  },
  {
   "cell_type": "markdown",
   "id": "c7e4e49e",
   "metadata": {},
   "source": [
    "## Train Test Split"
   ]
  },
  {
   "cell_type": "code",
   "execution_count": 53,
   "id": "4be778c4",
   "metadata": {},
   "outputs": [],
   "source": [
    "train_x, test_x, train_y, test_y = train_test_split(X, target, test_size = 0.2, random_state = 42)"
   ]
  },
  {
   "cell_type": "markdown",
   "id": "19145e54",
   "metadata": {},
   "source": [
    "## Create a model using Logistic Regression"
   ]
  },
  {
   "cell_type": "code",
   "execution_count": 54,
   "id": "6f2d4b53",
   "metadata": {},
   "outputs": [
    {
     "name": "stderr",
     "output_type": "stream",
     "text": [
      "/Library/Frameworks/Python.framework/Versions/3.9/lib/python3.9/site-packages/sklearn/linear_model/_logistic.py:458: ConvergenceWarning: lbfgs failed to converge (status=1):\n",
      "STOP: TOTAL NO. of ITERATIONS REACHED LIMIT.\n",
      "\n",
      "Increase the number of iterations (max_iter) or scale the data as shown in:\n",
      "    https://scikit-learn.org/stable/modules/preprocessing.html\n",
      "Please also refer to the documentation for alternative solver options:\n",
      "    https://scikit-learn.org/stable/modules/linear_model.html#logistic-regression\n",
      "  n_iter_i = _check_optimize_result(\n"
     ]
    },
    {
     "data": {
      "text/html": [
       "<style>#sk-container-id-1 {color: black;background-color: white;}#sk-container-id-1 pre{padding: 0;}#sk-container-id-1 div.sk-toggleable {background-color: white;}#sk-container-id-1 label.sk-toggleable__label {cursor: pointer;display: block;width: 100%;margin-bottom: 0;padding: 0.3em;box-sizing: border-box;text-align: center;}#sk-container-id-1 label.sk-toggleable__label-arrow:before {content: \"▸\";float: left;margin-right: 0.25em;color: #696969;}#sk-container-id-1 label.sk-toggleable__label-arrow:hover:before {color: black;}#sk-container-id-1 div.sk-estimator:hover label.sk-toggleable__label-arrow:before {color: black;}#sk-container-id-1 div.sk-toggleable__content {max-height: 0;max-width: 0;overflow: hidden;text-align: left;background-color: #f0f8ff;}#sk-container-id-1 div.sk-toggleable__content pre {margin: 0.2em;color: black;border-radius: 0.25em;background-color: #f0f8ff;}#sk-container-id-1 input.sk-toggleable__control:checked~div.sk-toggleable__content {max-height: 200px;max-width: 100%;overflow: auto;}#sk-container-id-1 input.sk-toggleable__control:checked~label.sk-toggleable__label-arrow:before {content: \"▾\";}#sk-container-id-1 div.sk-estimator input.sk-toggleable__control:checked~label.sk-toggleable__label {background-color: #d4ebff;}#sk-container-id-1 div.sk-label input.sk-toggleable__control:checked~label.sk-toggleable__label {background-color: #d4ebff;}#sk-container-id-1 input.sk-hidden--visually {border: 0;clip: rect(1px 1px 1px 1px);clip: rect(1px, 1px, 1px, 1px);height: 1px;margin: -1px;overflow: hidden;padding: 0;position: absolute;width: 1px;}#sk-container-id-1 div.sk-estimator {font-family: monospace;background-color: #f0f8ff;border: 1px dotted black;border-radius: 0.25em;box-sizing: border-box;margin-bottom: 0.5em;}#sk-container-id-1 div.sk-estimator:hover {background-color: #d4ebff;}#sk-container-id-1 div.sk-parallel-item::after {content: \"\";width: 100%;border-bottom: 1px solid gray;flex-grow: 1;}#sk-container-id-1 div.sk-label:hover label.sk-toggleable__label {background-color: #d4ebff;}#sk-container-id-1 div.sk-serial::before {content: \"\";position: absolute;border-left: 1px solid gray;box-sizing: border-box;top: 0;bottom: 0;left: 50%;z-index: 0;}#sk-container-id-1 div.sk-serial {display: flex;flex-direction: column;align-items: center;background-color: white;padding-right: 0.2em;padding-left: 0.2em;position: relative;}#sk-container-id-1 div.sk-item {position: relative;z-index: 1;}#sk-container-id-1 div.sk-parallel {display: flex;align-items: stretch;justify-content: center;background-color: white;position: relative;}#sk-container-id-1 div.sk-item::before, #sk-container-id-1 div.sk-parallel-item::before {content: \"\";position: absolute;border-left: 1px solid gray;box-sizing: border-box;top: 0;bottom: 0;left: 50%;z-index: -1;}#sk-container-id-1 div.sk-parallel-item {display: flex;flex-direction: column;z-index: 1;position: relative;background-color: white;}#sk-container-id-1 div.sk-parallel-item:first-child::after {align-self: flex-end;width: 50%;}#sk-container-id-1 div.sk-parallel-item:last-child::after {align-self: flex-start;width: 50%;}#sk-container-id-1 div.sk-parallel-item:only-child::after {width: 0;}#sk-container-id-1 div.sk-dashed-wrapped {border: 1px dashed gray;margin: 0 0.4em 0.5em 0.4em;box-sizing: border-box;padding-bottom: 0.4em;background-color: white;}#sk-container-id-1 div.sk-label label {font-family: monospace;font-weight: bold;display: inline-block;line-height: 1.2em;}#sk-container-id-1 div.sk-label-container {text-align: center;}#sk-container-id-1 div.sk-container {/* jupyter's `normalize.less` sets `[hidden] { display: none; }` but bootstrap.min.css set `[hidden] { display: none !important; }` so we also need the `!important` here to be able to override the default hidden behavior on the sphinx rendered scikit-learn.org. See: https://github.com/scikit-learn/scikit-learn/issues/21755 */display: inline-block !important;position: relative;}#sk-container-id-1 div.sk-text-repr-fallback {display: none;}</style><div id=\"sk-container-id-1\" class=\"sk-top-container\"><div class=\"sk-text-repr-fallback\"><pre>LogisticRegression()</pre><b>In a Jupyter environment, please rerun this cell to show the HTML representation or trust the notebook. <br />On GitHub, the HTML representation is unable to render, please try loading this page with nbviewer.org.</b></div><div class=\"sk-container\" hidden><div class=\"sk-item\"><div class=\"sk-estimator sk-toggleable\"><input class=\"sk-toggleable__control sk-hidden--visually\" id=\"sk-estimator-id-1\" type=\"checkbox\" checked><label for=\"sk-estimator-id-1\" class=\"sk-toggleable__label sk-toggleable__label-arrow\">LogisticRegression</label><div class=\"sk-toggleable__content\"><pre>LogisticRegression()</pre></div></div></div></div></div>"
      ],
      "text/plain": [
       "LogisticRegression()"
      ]
     },
     "execution_count": 54,
     "metadata": {},
     "output_type": "execute_result"
    }
   ],
   "source": [
    "logr = LogisticRegression()\n",
    "logr.fit(train_x, train_y)"
   ]
  },
  {
   "cell_type": "code",
   "execution_count": 55,
   "id": "73e538c3",
   "metadata": {},
   "outputs": [
    {
     "data": {
      "text/plain": [
       "0.8861348766985405"
      ]
     },
     "execution_count": 55,
     "metadata": {},
     "output_type": "execute_result"
    }
   ],
   "source": [
    "hyp = logr.predict(test_x)\n",
    "accuracy_score(test_y, hyp)"
   ]
  },
  {
   "cell_type": "code",
   "execution_count": 56,
   "id": "e7458a02",
   "metadata": {},
   "outputs": [
    {
     "data": {
      "text/plain": [
       "array([[3435,  430],\n",
       "       [ 475, 3608]])"
      ]
     },
     "execution_count": 56,
     "metadata": {},
     "output_type": "execute_result"
    }
   ],
   "source": [
    "confusion_matrix(test_y, hyp)"
   ]
  },
  {
   "cell_type": "code",
   "execution_count": 57,
   "id": "eb3469d0",
   "metadata": {},
   "outputs": [
    {
     "data": {
      "text/plain": [
       "array([0, 1])"
      ]
     },
     "execution_count": 57,
     "metadata": {},
     "output_type": "execute_result"
    }
   ],
   "source": [
    "logr.classes_"
   ]
  },
  {
   "cell_type": "code",
   "execution_count": 58,
   "id": "d2653036",
   "metadata": {},
   "outputs": [
    {
     "data": {
      "text/plain": [
       "array(['negative', 'positive'], dtype=object)"
      ]
     },
     "execution_count": 58,
     "metadata": {},
     "output_type": "execute_result"
    }
   ],
   "source": [
    "le.inverse_transform([0,1])"
   ]
  },
  {
   "cell_type": "markdown",
   "id": "7d61e268",
   "metadata": {},
   "source": [
    "### The confusion matrix states that True Negatives are 3435 that is the model has correctly predicted the correct negative values. False Positive values are 430 which means that actually the sentiment was negative but it predicted as positive. False negative values are 475 which means that actual sentiment is positive but the model predicted it as negative. True Positive values are 3608 which means that sentiment was actually positive and the model also predicted it as positive"
   ]
  },
  {
   "cell_type": "markdown",
   "id": "751c7f7c",
   "metadata": {},
   "source": [
    "### Vanilla Logistic Regression"
   ]
  },
  {
   "cell_type": "code",
   "execution_count": 59,
   "id": "79248f34",
   "metadata": {},
   "outputs": [
    {
     "data": {
      "text/html": [
       "<style>#sk-container-id-2 {color: black;background-color: white;}#sk-container-id-2 pre{padding: 0;}#sk-container-id-2 div.sk-toggleable {background-color: white;}#sk-container-id-2 label.sk-toggleable__label {cursor: pointer;display: block;width: 100%;margin-bottom: 0;padding: 0.3em;box-sizing: border-box;text-align: center;}#sk-container-id-2 label.sk-toggleable__label-arrow:before {content: \"▸\";float: left;margin-right: 0.25em;color: #696969;}#sk-container-id-2 label.sk-toggleable__label-arrow:hover:before {color: black;}#sk-container-id-2 div.sk-estimator:hover label.sk-toggleable__label-arrow:before {color: black;}#sk-container-id-2 div.sk-toggleable__content {max-height: 0;max-width: 0;overflow: hidden;text-align: left;background-color: #f0f8ff;}#sk-container-id-2 div.sk-toggleable__content pre {margin: 0.2em;color: black;border-radius: 0.25em;background-color: #f0f8ff;}#sk-container-id-2 input.sk-toggleable__control:checked~div.sk-toggleable__content {max-height: 200px;max-width: 100%;overflow: auto;}#sk-container-id-2 input.sk-toggleable__control:checked~label.sk-toggleable__label-arrow:before {content: \"▾\";}#sk-container-id-2 div.sk-estimator input.sk-toggleable__control:checked~label.sk-toggleable__label {background-color: #d4ebff;}#sk-container-id-2 div.sk-label input.sk-toggleable__control:checked~label.sk-toggleable__label {background-color: #d4ebff;}#sk-container-id-2 input.sk-hidden--visually {border: 0;clip: rect(1px 1px 1px 1px);clip: rect(1px, 1px, 1px, 1px);height: 1px;margin: -1px;overflow: hidden;padding: 0;position: absolute;width: 1px;}#sk-container-id-2 div.sk-estimator {font-family: monospace;background-color: #f0f8ff;border: 1px dotted black;border-radius: 0.25em;box-sizing: border-box;margin-bottom: 0.5em;}#sk-container-id-2 div.sk-estimator:hover {background-color: #d4ebff;}#sk-container-id-2 div.sk-parallel-item::after {content: \"\";width: 100%;border-bottom: 1px solid gray;flex-grow: 1;}#sk-container-id-2 div.sk-label:hover label.sk-toggleable__label {background-color: #d4ebff;}#sk-container-id-2 div.sk-serial::before {content: \"\";position: absolute;border-left: 1px solid gray;box-sizing: border-box;top: 0;bottom: 0;left: 50%;z-index: 0;}#sk-container-id-2 div.sk-serial {display: flex;flex-direction: column;align-items: center;background-color: white;padding-right: 0.2em;padding-left: 0.2em;position: relative;}#sk-container-id-2 div.sk-item {position: relative;z-index: 1;}#sk-container-id-2 div.sk-parallel {display: flex;align-items: stretch;justify-content: center;background-color: white;position: relative;}#sk-container-id-2 div.sk-item::before, #sk-container-id-2 div.sk-parallel-item::before {content: \"\";position: absolute;border-left: 1px solid gray;box-sizing: border-box;top: 0;bottom: 0;left: 50%;z-index: -1;}#sk-container-id-2 div.sk-parallel-item {display: flex;flex-direction: column;z-index: 1;position: relative;background-color: white;}#sk-container-id-2 div.sk-parallel-item:first-child::after {align-self: flex-end;width: 50%;}#sk-container-id-2 div.sk-parallel-item:last-child::after {align-self: flex-start;width: 50%;}#sk-container-id-2 div.sk-parallel-item:only-child::after {width: 0;}#sk-container-id-2 div.sk-dashed-wrapped {border: 1px dashed gray;margin: 0 0.4em 0.5em 0.4em;box-sizing: border-box;padding-bottom: 0.4em;background-color: white;}#sk-container-id-2 div.sk-label label {font-family: monospace;font-weight: bold;display: inline-block;line-height: 1.2em;}#sk-container-id-2 div.sk-label-container {text-align: center;}#sk-container-id-2 div.sk-container {/* jupyter's `normalize.less` sets `[hidden] { display: none; }` but bootstrap.min.css set `[hidden] { display: none !important; }` so we also need the `!important` here to be able to override the default hidden behavior on the sphinx rendered scikit-learn.org. See: https://github.com/scikit-learn/scikit-learn/issues/21755 */display: inline-block !important;position: relative;}#sk-container-id-2 div.sk-text-repr-fallback {display: none;}</style><div id=\"sk-container-id-2\" class=\"sk-top-container\"><div class=\"sk-text-repr-fallback\"><pre>GridSearchCV(cv=10, estimator=LogisticRegression(solver=&#x27;liblinear&#x27;),\n",
       "             param_grid={&#x27;C&#x27;: [0.1, 1]})</pre><b>In a Jupyter environment, please rerun this cell to show the HTML representation or trust the notebook. <br />On GitHub, the HTML representation is unable to render, please try loading this page with nbviewer.org.</b></div><div class=\"sk-container\" hidden><div class=\"sk-item sk-dashed-wrapped\"><div class=\"sk-label-container\"><div class=\"sk-label sk-toggleable\"><input class=\"sk-toggleable__control sk-hidden--visually\" id=\"sk-estimator-id-2\" type=\"checkbox\" ><label for=\"sk-estimator-id-2\" class=\"sk-toggleable__label sk-toggleable__label-arrow\">GridSearchCV</label><div class=\"sk-toggleable__content\"><pre>GridSearchCV(cv=10, estimator=LogisticRegression(solver=&#x27;liblinear&#x27;),\n",
       "             param_grid={&#x27;C&#x27;: [0.1, 1]})</pre></div></div></div><div class=\"sk-parallel\"><div class=\"sk-parallel-item\"><div class=\"sk-item\"><div class=\"sk-label-container\"><div class=\"sk-label sk-toggleable\"><input class=\"sk-toggleable__control sk-hidden--visually\" id=\"sk-estimator-id-3\" type=\"checkbox\" ><label for=\"sk-estimator-id-3\" class=\"sk-toggleable__label sk-toggleable__label-arrow\">estimator: LogisticRegression</label><div class=\"sk-toggleable__content\"><pre>LogisticRegression(solver=&#x27;liblinear&#x27;)</pre></div></div></div><div class=\"sk-serial\"><div class=\"sk-item\"><div class=\"sk-estimator sk-toggleable\"><input class=\"sk-toggleable__control sk-hidden--visually\" id=\"sk-estimator-id-4\" type=\"checkbox\" ><label for=\"sk-estimator-id-4\" class=\"sk-toggleable__label sk-toggleable__label-arrow\">LogisticRegression</label><div class=\"sk-toggleable__content\"><pre>LogisticRegression(solver=&#x27;liblinear&#x27;)</pre></div></div></div></div></div></div></div></div></div></div>"
      ],
      "text/plain": [
       "GridSearchCV(cv=10, estimator=LogisticRegression(solver='liblinear'),\n",
       "             param_grid={'C': [0.1, 1]})"
      ]
     },
     "execution_count": 59,
     "metadata": {},
     "output_type": "execute_result"
    }
   ],
   "source": [
    "parameters = { 'C': [0.1, 1]}\n",
    "logistic = LogisticRegression(solver='liblinear')\n",
    "clf = GridSearchCV(logistic, parameters, cv=10)\n",
    "clf.fit(train_x, train_y)"
   ]
  },
  {
   "cell_type": "code",
   "execution_count": 60,
   "id": "5597fcc1",
   "metadata": {},
   "outputs": [
    {
     "data": {
      "text/html": [
       "<style>#sk-container-id-3 {color: black;background-color: white;}#sk-container-id-3 pre{padding: 0;}#sk-container-id-3 div.sk-toggleable {background-color: white;}#sk-container-id-3 label.sk-toggleable__label {cursor: pointer;display: block;width: 100%;margin-bottom: 0;padding: 0.3em;box-sizing: border-box;text-align: center;}#sk-container-id-3 label.sk-toggleable__label-arrow:before {content: \"▸\";float: left;margin-right: 0.25em;color: #696969;}#sk-container-id-3 label.sk-toggleable__label-arrow:hover:before {color: black;}#sk-container-id-3 div.sk-estimator:hover label.sk-toggleable__label-arrow:before {color: black;}#sk-container-id-3 div.sk-toggleable__content {max-height: 0;max-width: 0;overflow: hidden;text-align: left;background-color: #f0f8ff;}#sk-container-id-3 div.sk-toggleable__content pre {margin: 0.2em;color: black;border-radius: 0.25em;background-color: #f0f8ff;}#sk-container-id-3 input.sk-toggleable__control:checked~div.sk-toggleable__content {max-height: 200px;max-width: 100%;overflow: auto;}#sk-container-id-3 input.sk-toggleable__control:checked~label.sk-toggleable__label-arrow:before {content: \"▾\";}#sk-container-id-3 div.sk-estimator input.sk-toggleable__control:checked~label.sk-toggleable__label {background-color: #d4ebff;}#sk-container-id-3 div.sk-label input.sk-toggleable__control:checked~label.sk-toggleable__label {background-color: #d4ebff;}#sk-container-id-3 input.sk-hidden--visually {border: 0;clip: rect(1px 1px 1px 1px);clip: rect(1px, 1px, 1px, 1px);height: 1px;margin: -1px;overflow: hidden;padding: 0;position: absolute;width: 1px;}#sk-container-id-3 div.sk-estimator {font-family: monospace;background-color: #f0f8ff;border: 1px dotted black;border-radius: 0.25em;box-sizing: border-box;margin-bottom: 0.5em;}#sk-container-id-3 div.sk-estimator:hover {background-color: #d4ebff;}#sk-container-id-3 div.sk-parallel-item::after {content: \"\";width: 100%;border-bottom: 1px solid gray;flex-grow: 1;}#sk-container-id-3 div.sk-label:hover label.sk-toggleable__label {background-color: #d4ebff;}#sk-container-id-3 div.sk-serial::before {content: \"\";position: absolute;border-left: 1px solid gray;box-sizing: border-box;top: 0;bottom: 0;left: 50%;z-index: 0;}#sk-container-id-3 div.sk-serial {display: flex;flex-direction: column;align-items: center;background-color: white;padding-right: 0.2em;padding-left: 0.2em;position: relative;}#sk-container-id-3 div.sk-item {position: relative;z-index: 1;}#sk-container-id-3 div.sk-parallel {display: flex;align-items: stretch;justify-content: center;background-color: white;position: relative;}#sk-container-id-3 div.sk-item::before, #sk-container-id-3 div.sk-parallel-item::before {content: \"\";position: absolute;border-left: 1px solid gray;box-sizing: border-box;top: 0;bottom: 0;left: 50%;z-index: -1;}#sk-container-id-3 div.sk-parallel-item {display: flex;flex-direction: column;z-index: 1;position: relative;background-color: white;}#sk-container-id-3 div.sk-parallel-item:first-child::after {align-self: flex-end;width: 50%;}#sk-container-id-3 div.sk-parallel-item:last-child::after {align-self: flex-start;width: 50%;}#sk-container-id-3 div.sk-parallel-item:only-child::after {width: 0;}#sk-container-id-3 div.sk-dashed-wrapped {border: 1px dashed gray;margin: 0 0.4em 0.5em 0.4em;box-sizing: border-box;padding-bottom: 0.4em;background-color: white;}#sk-container-id-3 div.sk-label label {font-family: monospace;font-weight: bold;display: inline-block;line-height: 1.2em;}#sk-container-id-3 div.sk-label-container {text-align: center;}#sk-container-id-3 div.sk-container {/* jupyter's `normalize.less` sets `[hidden] { display: none; }` but bootstrap.min.css set `[hidden] { display: none !important; }` so we also need the `!important` here to be able to override the default hidden behavior on the sphinx rendered scikit-learn.org. See: https://github.com/scikit-learn/scikit-learn/issues/21755 */display: inline-block !important;position: relative;}#sk-container-id-3 div.sk-text-repr-fallback {display: none;}</style><div id=\"sk-container-id-3\" class=\"sk-top-container\"><div class=\"sk-text-repr-fallback\"><pre>LogisticRegression(C=0.1, solver=&#x27;liblinear&#x27;)</pre><b>In a Jupyter environment, please rerun this cell to show the HTML representation or trust the notebook. <br />On GitHub, the HTML representation is unable to render, please try loading this page with nbviewer.org.</b></div><div class=\"sk-container\" hidden><div class=\"sk-item\"><div class=\"sk-estimator sk-toggleable\"><input class=\"sk-toggleable__control sk-hidden--visually\" id=\"sk-estimator-id-5\" type=\"checkbox\" checked><label for=\"sk-estimator-id-5\" class=\"sk-toggleable__label sk-toggleable__label-arrow\">LogisticRegression</label><div class=\"sk-toggleable__content\"><pre>LogisticRegression(C=0.1, solver=&#x27;liblinear&#x27;)</pre></div></div></div></div></div>"
      ],
      "text/plain": [
       "LogisticRegression(C=0.1, solver='liblinear')"
      ]
     },
     "execution_count": 60,
     "metadata": {},
     "output_type": "execute_result"
    }
   ],
   "source": [
    "clf.best_estimator_"
   ]
  },
  {
   "cell_type": "code",
   "execution_count": 56,
   "id": "66ef3998",
   "metadata": {},
   "outputs": [
    {
     "data": {
      "text/html": [
       "<style>#sk-container-id-2 {color: black;background-color: white;}#sk-container-id-2 pre{padding: 0;}#sk-container-id-2 div.sk-toggleable {background-color: white;}#sk-container-id-2 label.sk-toggleable__label {cursor: pointer;display: block;width: 100%;margin-bottom: 0;padding: 0.3em;box-sizing: border-box;text-align: center;}#sk-container-id-2 label.sk-toggleable__label-arrow:before {content: \"▸\";float: left;margin-right: 0.25em;color: #696969;}#sk-container-id-2 label.sk-toggleable__label-arrow:hover:before {color: black;}#sk-container-id-2 div.sk-estimator:hover label.sk-toggleable__label-arrow:before {color: black;}#sk-container-id-2 div.sk-toggleable__content {max-height: 0;max-width: 0;overflow: hidden;text-align: left;background-color: #f0f8ff;}#sk-container-id-2 div.sk-toggleable__content pre {margin: 0.2em;color: black;border-radius: 0.25em;background-color: #f0f8ff;}#sk-container-id-2 input.sk-toggleable__control:checked~div.sk-toggleable__content {max-height: 200px;max-width: 100%;overflow: auto;}#sk-container-id-2 input.sk-toggleable__control:checked~label.sk-toggleable__label-arrow:before {content: \"▾\";}#sk-container-id-2 div.sk-estimator input.sk-toggleable__control:checked~label.sk-toggleable__label {background-color: #d4ebff;}#sk-container-id-2 div.sk-label input.sk-toggleable__control:checked~label.sk-toggleable__label {background-color: #d4ebff;}#sk-container-id-2 input.sk-hidden--visually {border: 0;clip: rect(1px 1px 1px 1px);clip: rect(1px, 1px, 1px, 1px);height: 1px;margin: -1px;overflow: hidden;padding: 0;position: absolute;width: 1px;}#sk-container-id-2 div.sk-estimator {font-family: monospace;background-color: #f0f8ff;border: 1px dotted black;border-radius: 0.25em;box-sizing: border-box;margin-bottom: 0.5em;}#sk-container-id-2 div.sk-estimator:hover {background-color: #d4ebff;}#sk-container-id-2 div.sk-parallel-item::after {content: \"\";width: 100%;border-bottom: 1px solid gray;flex-grow: 1;}#sk-container-id-2 div.sk-label:hover label.sk-toggleable__label {background-color: #d4ebff;}#sk-container-id-2 div.sk-serial::before {content: \"\";position: absolute;border-left: 1px solid gray;box-sizing: border-box;top: 0;bottom: 0;left: 50%;z-index: 0;}#sk-container-id-2 div.sk-serial {display: flex;flex-direction: column;align-items: center;background-color: white;padding-right: 0.2em;padding-left: 0.2em;position: relative;}#sk-container-id-2 div.sk-item {position: relative;z-index: 1;}#sk-container-id-2 div.sk-parallel {display: flex;align-items: stretch;justify-content: center;background-color: white;position: relative;}#sk-container-id-2 div.sk-item::before, #sk-container-id-2 div.sk-parallel-item::before {content: \"\";position: absolute;border-left: 1px solid gray;box-sizing: border-box;top: 0;bottom: 0;left: 50%;z-index: -1;}#sk-container-id-2 div.sk-parallel-item {display: flex;flex-direction: column;z-index: 1;position: relative;background-color: white;}#sk-container-id-2 div.sk-parallel-item:first-child::after {align-self: flex-end;width: 50%;}#sk-container-id-2 div.sk-parallel-item:last-child::after {align-self: flex-start;width: 50%;}#sk-container-id-2 div.sk-parallel-item:only-child::after {width: 0;}#sk-container-id-2 div.sk-dashed-wrapped {border: 1px dashed gray;margin: 0 0.4em 0.5em 0.4em;box-sizing: border-box;padding-bottom: 0.4em;background-color: white;}#sk-container-id-2 div.sk-label label {font-family: monospace;font-weight: bold;display: inline-block;line-height: 1.2em;}#sk-container-id-2 div.sk-label-container {text-align: center;}#sk-container-id-2 div.sk-container {/* jupyter's `normalize.less` sets `[hidden] { display: none; }` but bootstrap.min.css set `[hidden] { display: none !important; }` so we also need the `!important` here to be able to override the default hidden behavior on the sphinx rendered scikit-learn.org. See: https://github.com/scikit-learn/scikit-learn/issues/21755 */display: inline-block !important;position: relative;}#sk-container-id-2 div.sk-text-repr-fallback {display: none;}</style><div id=\"sk-container-id-2\" class=\"sk-top-container\"><div class=\"sk-text-repr-fallback\"><pre>GridSearchCV(cv=10, estimator=LogisticRegression(solver=&#x27;liblinear&#x27;),\n",
       "             param_grid={&#x27;C&#x27;: [0.1, 1], &#x27;penalty&#x27;: [&#x27;l1&#x27;, &#x27;l2&#x27;]})</pre><b>In a Jupyter environment, please rerun this cell to show the HTML representation or trust the notebook. <br />On GitHub, the HTML representation is unable to render, please try loading this page with nbviewer.org.</b></div><div class=\"sk-container\" hidden><div class=\"sk-item sk-dashed-wrapped\"><div class=\"sk-label-container\"><div class=\"sk-label sk-toggleable\"><input class=\"sk-toggleable__control sk-hidden--visually\" id=\"sk-estimator-id-2\" type=\"checkbox\" ><label for=\"sk-estimator-id-2\" class=\"sk-toggleable__label sk-toggleable__label-arrow\">GridSearchCV</label><div class=\"sk-toggleable__content\"><pre>GridSearchCV(cv=10, estimator=LogisticRegression(solver=&#x27;liblinear&#x27;),\n",
       "             param_grid={&#x27;C&#x27;: [0.1, 1], &#x27;penalty&#x27;: [&#x27;l1&#x27;, &#x27;l2&#x27;]})</pre></div></div></div><div class=\"sk-parallel\"><div class=\"sk-parallel-item\"><div class=\"sk-item\"><div class=\"sk-label-container\"><div class=\"sk-label sk-toggleable\"><input class=\"sk-toggleable__control sk-hidden--visually\" id=\"sk-estimator-id-3\" type=\"checkbox\" ><label for=\"sk-estimator-id-3\" class=\"sk-toggleable__label sk-toggleable__label-arrow\">estimator: LogisticRegression</label><div class=\"sk-toggleable__content\"><pre>LogisticRegression(solver=&#x27;liblinear&#x27;)</pre></div></div></div><div class=\"sk-serial\"><div class=\"sk-item\"><div class=\"sk-estimator sk-toggleable\"><input class=\"sk-toggleable__control sk-hidden--visually\" id=\"sk-estimator-id-4\" type=\"checkbox\" ><label for=\"sk-estimator-id-4\" class=\"sk-toggleable__label sk-toggleable__label-arrow\">LogisticRegression</label><div class=\"sk-toggleable__content\"><pre>LogisticRegression(solver=&#x27;liblinear&#x27;)</pre></div></div></div></div></div></div></div></div></div></div>"
      ],
      "text/plain": [
       "GridSearchCV(cv=10, estimator=LogisticRegression(solver='liblinear'),\n",
       "             param_grid={'C': [0.1, 1], 'penalty': ['l1', 'l2']})"
      ]
     },
     "execution_count": 56,
     "metadata": {},
     "output_type": "execute_result"
    }
   ],
   "source": [
    "# parameters = {'penalty': ['11', '12'],\n",
    "#              'C': [0.00001, 0.0001, 0.001, 0.01, 0.1, 1, 10, 100, 1000, 10000]}\n",
    "# logistic = LogisticRegression(solver='liblinear')\n",
    "# grid_search = GridSearchCV(logistic, parameters, cv=10)\n",
    "# grid_search.fit(train_x, train_y)\n",
    "\n",
    "parameters = {'penalty': ['l1', 'l2'],\n",
    "             'C': [0.1, 1]}\n",
    "logistic = LogisticRegression(solver='liblinear')\n",
    "clf = GridSearchCV(logistic, parameters, cv=10)\n",
    "clf.fit(train_x, train_y)"
   ]
  },
  {
   "cell_type": "code",
   "execution_count": 57,
   "id": "f83670d7",
   "metadata": {},
   "outputs": [
    {
     "data": {
      "text/html": [
       "<style>#sk-container-id-3 {color: black;background-color: white;}#sk-container-id-3 pre{padding: 0;}#sk-container-id-3 div.sk-toggleable {background-color: white;}#sk-container-id-3 label.sk-toggleable__label {cursor: pointer;display: block;width: 100%;margin-bottom: 0;padding: 0.3em;box-sizing: border-box;text-align: center;}#sk-container-id-3 label.sk-toggleable__label-arrow:before {content: \"▸\";float: left;margin-right: 0.25em;color: #696969;}#sk-container-id-3 label.sk-toggleable__label-arrow:hover:before {color: black;}#sk-container-id-3 div.sk-estimator:hover label.sk-toggleable__label-arrow:before {color: black;}#sk-container-id-3 div.sk-toggleable__content {max-height: 0;max-width: 0;overflow: hidden;text-align: left;background-color: #f0f8ff;}#sk-container-id-3 div.sk-toggleable__content pre {margin: 0.2em;color: black;border-radius: 0.25em;background-color: #f0f8ff;}#sk-container-id-3 input.sk-toggleable__control:checked~div.sk-toggleable__content {max-height: 200px;max-width: 100%;overflow: auto;}#sk-container-id-3 input.sk-toggleable__control:checked~label.sk-toggleable__label-arrow:before {content: \"▾\";}#sk-container-id-3 div.sk-estimator input.sk-toggleable__control:checked~label.sk-toggleable__label {background-color: #d4ebff;}#sk-container-id-3 div.sk-label input.sk-toggleable__control:checked~label.sk-toggleable__label {background-color: #d4ebff;}#sk-container-id-3 input.sk-hidden--visually {border: 0;clip: rect(1px 1px 1px 1px);clip: rect(1px, 1px, 1px, 1px);height: 1px;margin: -1px;overflow: hidden;padding: 0;position: absolute;width: 1px;}#sk-container-id-3 div.sk-estimator {font-family: monospace;background-color: #f0f8ff;border: 1px dotted black;border-radius: 0.25em;box-sizing: border-box;margin-bottom: 0.5em;}#sk-container-id-3 div.sk-estimator:hover {background-color: #d4ebff;}#sk-container-id-3 div.sk-parallel-item::after {content: \"\";width: 100%;border-bottom: 1px solid gray;flex-grow: 1;}#sk-container-id-3 div.sk-label:hover label.sk-toggleable__label {background-color: #d4ebff;}#sk-container-id-3 div.sk-serial::before {content: \"\";position: absolute;border-left: 1px solid gray;box-sizing: border-box;top: 0;bottom: 0;left: 50%;z-index: 0;}#sk-container-id-3 div.sk-serial {display: flex;flex-direction: column;align-items: center;background-color: white;padding-right: 0.2em;padding-left: 0.2em;position: relative;}#sk-container-id-3 div.sk-item {position: relative;z-index: 1;}#sk-container-id-3 div.sk-parallel {display: flex;align-items: stretch;justify-content: center;background-color: white;position: relative;}#sk-container-id-3 div.sk-item::before, #sk-container-id-3 div.sk-parallel-item::before {content: \"\";position: absolute;border-left: 1px solid gray;box-sizing: border-box;top: 0;bottom: 0;left: 50%;z-index: -1;}#sk-container-id-3 div.sk-parallel-item {display: flex;flex-direction: column;z-index: 1;position: relative;background-color: white;}#sk-container-id-3 div.sk-parallel-item:first-child::after {align-self: flex-end;width: 50%;}#sk-container-id-3 div.sk-parallel-item:last-child::after {align-self: flex-start;width: 50%;}#sk-container-id-3 div.sk-parallel-item:only-child::after {width: 0;}#sk-container-id-3 div.sk-dashed-wrapped {border: 1px dashed gray;margin: 0 0.4em 0.5em 0.4em;box-sizing: border-box;padding-bottom: 0.4em;background-color: white;}#sk-container-id-3 div.sk-label label {font-family: monospace;font-weight: bold;display: inline-block;line-height: 1.2em;}#sk-container-id-3 div.sk-label-container {text-align: center;}#sk-container-id-3 div.sk-container {/* jupyter's `normalize.less` sets `[hidden] { display: none; }` but bootstrap.min.css set `[hidden] { display: none !important; }` so we also need the `!important` here to be able to override the default hidden behavior on the sphinx rendered scikit-learn.org. See: https://github.com/scikit-learn/scikit-learn/issues/21755 */display: inline-block !important;position: relative;}#sk-container-id-3 div.sk-text-repr-fallback {display: none;}</style><div id=\"sk-container-id-3\" class=\"sk-top-container\"><div class=\"sk-text-repr-fallback\"><pre>LogisticRegression(C=0.1, solver=&#x27;liblinear&#x27;)</pre><b>In a Jupyter environment, please rerun this cell to show the HTML representation or trust the notebook. <br />On GitHub, the HTML representation is unable to render, please try loading this page with nbviewer.org.</b></div><div class=\"sk-container\" hidden><div class=\"sk-item\"><div class=\"sk-estimator sk-toggleable\"><input class=\"sk-toggleable__control sk-hidden--visually\" id=\"sk-estimator-id-5\" type=\"checkbox\" checked><label for=\"sk-estimator-id-5\" class=\"sk-toggleable__label sk-toggleable__label-arrow\">LogisticRegression</label><div class=\"sk-toggleable__content\"><pre>LogisticRegression(C=0.1, solver=&#x27;liblinear&#x27;)</pre></div></div></div></div></div>"
      ],
      "text/plain": [
       "LogisticRegression(C=0.1, solver='liblinear')"
      ]
     },
     "execution_count": 57,
     "metadata": {},
     "output_type": "execute_result"
    }
   ],
   "source": [
    "clf.best_estimator_"
   ]
  },
  {
   "cell_type": "code",
   "execution_count": 58,
   "id": "2b2773cf",
   "metadata": {},
   "outputs": [
    {
     "name": "stderr",
     "output_type": "stream",
     "text": [
      "/Library/Frameworks/Python.framework/Versions/3.9/lib/python3.9/site-packages/sklearn/linear_model/_logistic.py:458: ConvergenceWarning: lbfgs failed to converge (status=1):\n",
      "STOP: TOTAL NO. of ITERATIONS REACHED LIMIT.\n",
      "\n",
      "Increase the number of iterations (max_iter) or scale the data as shown in:\n",
      "    https://scikit-learn.org/stable/modules/preprocessing.html\n",
      "Please also refer to the documentation for alternative solver options:\n",
      "    https://scikit-learn.org/stable/modules/linear_model.html#logistic-regression\n",
      "  n_iter_i = _check_optimize_result(\n"
     ]
    },
    {
     "data": {
      "text/html": [
       "<style>#sk-container-id-4 {color: black;background-color: white;}#sk-container-id-4 pre{padding: 0;}#sk-container-id-4 div.sk-toggleable {background-color: white;}#sk-container-id-4 label.sk-toggleable__label {cursor: pointer;display: block;width: 100%;margin-bottom: 0;padding: 0.3em;box-sizing: border-box;text-align: center;}#sk-container-id-4 label.sk-toggleable__label-arrow:before {content: \"▸\";float: left;margin-right: 0.25em;color: #696969;}#sk-container-id-4 label.sk-toggleable__label-arrow:hover:before {color: black;}#sk-container-id-4 div.sk-estimator:hover label.sk-toggleable__label-arrow:before {color: black;}#sk-container-id-4 div.sk-toggleable__content {max-height: 0;max-width: 0;overflow: hidden;text-align: left;background-color: #f0f8ff;}#sk-container-id-4 div.sk-toggleable__content pre {margin: 0.2em;color: black;border-radius: 0.25em;background-color: #f0f8ff;}#sk-container-id-4 input.sk-toggleable__control:checked~div.sk-toggleable__content {max-height: 200px;max-width: 100%;overflow: auto;}#sk-container-id-4 input.sk-toggleable__control:checked~label.sk-toggleable__label-arrow:before {content: \"▾\";}#sk-container-id-4 div.sk-estimator input.sk-toggleable__control:checked~label.sk-toggleable__label {background-color: #d4ebff;}#sk-container-id-4 div.sk-label input.sk-toggleable__control:checked~label.sk-toggleable__label {background-color: #d4ebff;}#sk-container-id-4 input.sk-hidden--visually {border: 0;clip: rect(1px 1px 1px 1px);clip: rect(1px, 1px, 1px, 1px);height: 1px;margin: -1px;overflow: hidden;padding: 0;position: absolute;width: 1px;}#sk-container-id-4 div.sk-estimator {font-family: monospace;background-color: #f0f8ff;border: 1px dotted black;border-radius: 0.25em;box-sizing: border-box;margin-bottom: 0.5em;}#sk-container-id-4 div.sk-estimator:hover {background-color: #d4ebff;}#sk-container-id-4 div.sk-parallel-item::after {content: \"\";width: 100%;border-bottom: 1px solid gray;flex-grow: 1;}#sk-container-id-4 div.sk-label:hover label.sk-toggleable__label {background-color: #d4ebff;}#sk-container-id-4 div.sk-serial::before {content: \"\";position: absolute;border-left: 1px solid gray;box-sizing: border-box;top: 0;bottom: 0;left: 50%;z-index: 0;}#sk-container-id-4 div.sk-serial {display: flex;flex-direction: column;align-items: center;background-color: white;padding-right: 0.2em;padding-left: 0.2em;position: relative;}#sk-container-id-4 div.sk-item {position: relative;z-index: 1;}#sk-container-id-4 div.sk-parallel {display: flex;align-items: stretch;justify-content: center;background-color: white;position: relative;}#sk-container-id-4 div.sk-item::before, #sk-container-id-4 div.sk-parallel-item::before {content: \"\";position: absolute;border-left: 1px solid gray;box-sizing: border-box;top: 0;bottom: 0;left: 50%;z-index: -1;}#sk-container-id-4 div.sk-parallel-item {display: flex;flex-direction: column;z-index: 1;position: relative;background-color: white;}#sk-container-id-4 div.sk-parallel-item:first-child::after {align-self: flex-end;width: 50%;}#sk-container-id-4 div.sk-parallel-item:last-child::after {align-self: flex-start;width: 50%;}#sk-container-id-4 div.sk-parallel-item:only-child::after {width: 0;}#sk-container-id-4 div.sk-dashed-wrapped {border: 1px dashed gray;margin: 0 0.4em 0.5em 0.4em;box-sizing: border-box;padding-bottom: 0.4em;background-color: white;}#sk-container-id-4 div.sk-label label {font-family: monospace;font-weight: bold;display: inline-block;line-height: 1.2em;}#sk-container-id-4 div.sk-label-container {text-align: center;}#sk-container-id-4 div.sk-container {/* jupyter's `normalize.less` sets `[hidden] { display: none; }` but bootstrap.min.css set `[hidden] { display: none !important; }` so we also need the `!important` here to be able to override the default hidden behavior on the sphinx rendered scikit-learn.org. See: https://github.com/scikit-learn/scikit-learn/issues/21755 */display: inline-block !important;position: relative;}#sk-container-id-4 div.sk-text-repr-fallback {display: none;}</style><div id=\"sk-container-id-4\" class=\"sk-top-container\"><div class=\"sk-text-repr-fallback\"><pre>LogisticRegression(C=0.1)</pre><b>In a Jupyter environment, please rerun this cell to show the HTML representation or trust the notebook. <br />On GitHub, the HTML representation is unable to render, please try loading this page with nbviewer.org.</b></div><div class=\"sk-container\" hidden><div class=\"sk-item\"><div class=\"sk-estimator sk-toggleable\"><input class=\"sk-toggleable__control sk-hidden--visually\" id=\"sk-estimator-id-6\" type=\"checkbox\" checked><label for=\"sk-estimator-id-6\" class=\"sk-toggleable__label sk-toggleable__label-arrow\">LogisticRegression</label><div class=\"sk-toggleable__content\"><pre>LogisticRegression(C=0.1)</pre></div></div></div></div></div>"
      ],
      "text/plain": [
       "LogisticRegression(C=0.1)"
      ]
     },
     "execution_count": 58,
     "metadata": {},
     "output_type": "execute_result"
    }
   ],
   "source": [
    "logr = LogisticRegression(C=0.1)\n",
    "logr.fit(train_x, train_y)"
   ]
  },
  {
   "cell_type": "code",
   "execution_count": 59,
   "id": "8de18d86",
   "metadata": {},
   "outputs": [
    {
     "data": {
      "text/plain": [
       "0.8891545042778057"
      ]
     },
     "execution_count": 59,
     "metadata": {},
     "output_type": "execute_result"
    }
   ],
   "source": [
    "hyp = logr.predict(test_x)\n",
    "accuracy_score(test_y, hyp)"
   ]
  },
  {
   "cell_type": "markdown",
   "id": "1a4ecf79",
   "metadata": {},
   "source": [
    "### GridSearch CV on Ridge and Lasso"
   ]
  },
  {
   "cell_type": "code",
   "execution_count": 60,
   "id": "b29f7dae",
   "metadata": {},
   "outputs": [
    {
     "data": {
      "text/plain": [
       "0.40705919237363414"
      ]
     },
     "execution_count": 60,
     "metadata": {},
     "output_type": "execute_result"
    }
   ],
   "source": [
    "ridge = Ridge(alpha=10)\n",
    "ridge.fit(train_x, train_y)\n",
    "np.sqrt(mean_squared_error(test_y, ridge.predict(test_x)))"
   ]
  },
  {
   "cell_type": "code",
   "execution_count": 61,
   "id": "23af0705",
   "metadata": {},
   "outputs": [
    {
     "data": {
      "text/plain": [
       "0.5000221878488963"
      ]
     },
     "execution_count": 61,
     "metadata": {},
     "output_type": "execute_result"
    }
   ],
   "source": [
    "lasso = Lasso(alpha=10)\n",
    "lasso.fit(train_x, train_y)\n",
    "np.sqrt(mean_squared_error(test_y, lasso.predict(test_x)))"
   ]
  },
  {
   "cell_type": "code",
   "execution_count": 62,
   "id": "ecefc19c",
   "metadata": {},
   "outputs": [
    {
     "data": {
      "text/html": [
       "<style>#sk-container-id-5 {color: black;background-color: white;}#sk-container-id-5 pre{padding: 0;}#sk-container-id-5 div.sk-toggleable {background-color: white;}#sk-container-id-5 label.sk-toggleable__label {cursor: pointer;display: block;width: 100%;margin-bottom: 0;padding: 0.3em;box-sizing: border-box;text-align: center;}#sk-container-id-5 label.sk-toggleable__label-arrow:before {content: \"▸\";float: left;margin-right: 0.25em;color: #696969;}#sk-container-id-5 label.sk-toggleable__label-arrow:hover:before {color: black;}#sk-container-id-5 div.sk-estimator:hover label.sk-toggleable__label-arrow:before {color: black;}#sk-container-id-5 div.sk-toggleable__content {max-height: 0;max-width: 0;overflow: hidden;text-align: left;background-color: #f0f8ff;}#sk-container-id-5 div.sk-toggleable__content pre {margin: 0.2em;color: black;border-radius: 0.25em;background-color: #f0f8ff;}#sk-container-id-5 input.sk-toggleable__control:checked~div.sk-toggleable__content {max-height: 200px;max-width: 100%;overflow: auto;}#sk-container-id-5 input.sk-toggleable__control:checked~label.sk-toggleable__label-arrow:before {content: \"▾\";}#sk-container-id-5 div.sk-estimator input.sk-toggleable__control:checked~label.sk-toggleable__label {background-color: #d4ebff;}#sk-container-id-5 div.sk-label input.sk-toggleable__control:checked~label.sk-toggleable__label {background-color: #d4ebff;}#sk-container-id-5 input.sk-hidden--visually {border: 0;clip: rect(1px 1px 1px 1px);clip: rect(1px, 1px, 1px, 1px);height: 1px;margin: -1px;overflow: hidden;padding: 0;position: absolute;width: 1px;}#sk-container-id-5 div.sk-estimator {font-family: monospace;background-color: #f0f8ff;border: 1px dotted black;border-radius: 0.25em;box-sizing: border-box;margin-bottom: 0.5em;}#sk-container-id-5 div.sk-estimator:hover {background-color: #d4ebff;}#sk-container-id-5 div.sk-parallel-item::after {content: \"\";width: 100%;border-bottom: 1px solid gray;flex-grow: 1;}#sk-container-id-5 div.sk-label:hover label.sk-toggleable__label {background-color: #d4ebff;}#sk-container-id-5 div.sk-serial::before {content: \"\";position: absolute;border-left: 1px solid gray;box-sizing: border-box;top: 0;bottom: 0;left: 50%;z-index: 0;}#sk-container-id-5 div.sk-serial {display: flex;flex-direction: column;align-items: center;background-color: white;padding-right: 0.2em;padding-left: 0.2em;position: relative;}#sk-container-id-5 div.sk-item {position: relative;z-index: 1;}#sk-container-id-5 div.sk-parallel {display: flex;align-items: stretch;justify-content: center;background-color: white;position: relative;}#sk-container-id-5 div.sk-item::before, #sk-container-id-5 div.sk-parallel-item::before {content: \"\";position: absolute;border-left: 1px solid gray;box-sizing: border-box;top: 0;bottom: 0;left: 50%;z-index: -1;}#sk-container-id-5 div.sk-parallel-item {display: flex;flex-direction: column;z-index: 1;position: relative;background-color: white;}#sk-container-id-5 div.sk-parallel-item:first-child::after {align-self: flex-end;width: 50%;}#sk-container-id-5 div.sk-parallel-item:last-child::after {align-self: flex-start;width: 50%;}#sk-container-id-5 div.sk-parallel-item:only-child::after {width: 0;}#sk-container-id-5 div.sk-dashed-wrapped {border: 1px dashed gray;margin: 0 0.4em 0.5em 0.4em;box-sizing: border-box;padding-bottom: 0.4em;background-color: white;}#sk-container-id-5 div.sk-label label {font-family: monospace;font-weight: bold;display: inline-block;line-height: 1.2em;}#sk-container-id-5 div.sk-label-container {text-align: center;}#sk-container-id-5 div.sk-container {/* jupyter's `normalize.less` sets `[hidden] { display: none; }` but bootstrap.min.css set `[hidden] { display: none !important; }` so we also need the `!important` here to be able to override the default hidden behavior on the sphinx rendered scikit-learn.org. See: https://github.com/scikit-learn/scikit-learn/issues/21755 */display: inline-block !important;position: relative;}#sk-container-id-5 div.sk-text-repr-fallback {display: none;}</style><div id=\"sk-container-id-5\" class=\"sk-top-container\"><div class=\"sk-text-repr-fallback\"><pre>GridSearchCV(cv=5, estimator=Ridge(), param_grid={&#x27;alpha&#x27;: [1, 10]},\n",
       "             scoring=&#x27;neg_mean_squared_error&#x27;)</pre><b>In a Jupyter environment, please rerun this cell to show the HTML representation or trust the notebook. <br />On GitHub, the HTML representation is unable to render, please try loading this page with nbviewer.org.</b></div><div class=\"sk-container\" hidden><div class=\"sk-item sk-dashed-wrapped\"><div class=\"sk-label-container\"><div class=\"sk-label sk-toggleable\"><input class=\"sk-toggleable__control sk-hidden--visually\" id=\"sk-estimator-id-7\" type=\"checkbox\" ><label for=\"sk-estimator-id-7\" class=\"sk-toggleable__label sk-toggleable__label-arrow\">GridSearchCV</label><div class=\"sk-toggleable__content\"><pre>GridSearchCV(cv=5, estimator=Ridge(), param_grid={&#x27;alpha&#x27;: [1, 10]},\n",
       "             scoring=&#x27;neg_mean_squared_error&#x27;)</pre></div></div></div><div class=\"sk-parallel\"><div class=\"sk-parallel-item\"><div class=\"sk-item\"><div class=\"sk-label-container\"><div class=\"sk-label sk-toggleable\"><input class=\"sk-toggleable__control sk-hidden--visually\" id=\"sk-estimator-id-8\" type=\"checkbox\" ><label for=\"sk-estimator-id-8\" class=\"sk-toggleable__label sk-toggleable__label-arrow\">estimator: Ridge</label><div class=\"sk-toggleable__content\"><pre>Ridge()</pre></div></div></div><div class=\"sk-serial\"><div class=\"sk-item\"><div class=\"sk-estimator sk-toggleable\"><input class=\"sk-toggleable__control sk-hidden--visually\" id=\"sk-estimator-id-9\" type=\"checkbox\" ><label for=\"sk-estimator-id-9\" class=\"sk-toggleable__label sk-toggleable__label-arrow\">Ridge</label><div class=\"sk-toggleable__content\"><pre>Ridge()</pre></div></div></div></div></div></div></div></div></div></div>"
      ],
      "text/plain": [
       "GridSearchCV(cv=5, estimator=Ridge(), param_grid={'alpha': [1, 10]},\n",
       "             scoring='neg_mean_squared_error')"
      ]
     },
     "execution_count": 62,
     "metadata": {},
     "output_type": "execute_result"
    }
   ],
   "source": [
    "params = {'alpha': [1, 10]}\n",
    "ridge = Ridge()\n",
    "reg = GridSearchCV(ridge, params, scoring='neg_mean_squared_error', cv=5)\n",
    "reg.fit(train_x, train_y)"
   ]
  },
  {
   "cell_type": "code",
   "execution_count": 63,
   "id": "7a7719e3",
   "metadata": {},
   "outputs": [
    {
     "data": {
      "text/plain": [
       "{'alpha': 10}"
      ]
     },
     "execution_count": 63,
     "metadata": {},
     "output_type": "execute_result"
    }
   ],
   "source": [
    "reg.best_params_"
   ]
  },
  {
   "cell_type": "code",
   "execution_count": 64,
   "id": "5ca8228b",
   "metadata": {},
   "outputs": [
    {
     "data": {
      "text/html": [
       "<style>#sk-container-id-6 {color: black;background-color: white;}#sk-container-id-6 pre{padding: 0;}#sk-container-id-6 div.sk-toggleable {background-color: white;}#sk-container-id-6 label.sk-toggleable__label {cursor: pointer;display: block;width: 100%;margin-bottom: 0;padding: 0.3em;box-sizing: border-box;text-align: center;}#sk-container-id-6 label.sk-toggleable__label-arrow:before {content: \"▸\";float: left;margin-right: 0.25em;color: #696969;}#sk-container-id-6 label.sk-toggleable__label-arrow:hover:before {color: black;}#sk-container-id-6 div.sk-estimator:hover label.sk-toggleable__label-arrow:before {color: black;}#sk-container-id-6 div.sk-toggleable__content {max-height: 0;max-width: 0;overflow: hidden;text-align: left;background-color: #f0f8ff;}#sk-container-id-6 div.sk-toggleable__content pre {margin: 0.2em;color: black;border-radius: 0.25em;background-color: #f0f8ff;}#sk-container-id-6 input.sk-toggleable__control:checked~div.sk-toggleable__content {max-height: 200px;max-width: 100%;overflow: auto;}#sk-container-id-6 input.sk-toggleable__control:checked~label.sk-toggleable__label-arrow:before {content: \"▾\";}#sk-container-id-6 div.sk-estimator input.sk-toggleable__control:checked~label.sk-toggleable__label {background-color: #d4ebff;}#sk-container-id-6 div.sk-label input.sk-toggleable__control:checked~label.sk-toggleable__label {background-color: #d4ebff;}#sk-container-id-6 input.sk-hidden--visually {border: 0;clip: rect(1px 1px 1px 1px);clip: rect(1px, 1px, 1px, 1px);height: 1px;margin: -1px;overflow: hidden;padding: 0;position: absolute;width: 1px;}#sk-container-id-6 div.sk-estimator {font-family: monospace;background-color: #f0f8ff;border: 1px dotted black;border-radius: 0.25em;box-sizing: border-box;margin-bottom: 0.5em;}#sk-container-id-6 div.sk-estimator:hover {background-color: #d4ebff;}#sk-container-id-6 div.sk-parallel-item::after {content: \"\";width: 100%;border-bottom: 1px solid gray;flex-grow: 1;}#sk-container-id-6 div.sk-label:hover label.sk-toggleable__label {background-color: #d4ebff;}#sk-container-id-6 div.sk-serial::before {content: \"\";position: absolute;border-left: 1px solid gray;box-sizing: border-box;top: 0;bottom: 0;left: 50%;z-index: 0;}#sk-container-id-6 div.sk-serial {display: flex;flex-direction: column;align-items: center;background-color: white;padding-right: 0.2em;padding-left: 0.2em;position: relative;}#sk-container-id-6 div.sk-item {position: relative;z-index: 1;}#sk-container-id-6 div.sk-parallel {display: flex;align-items: stretch;justify-content: center;background-color: white;position: relative;}#sk-container-id-6 div.sk-item::before, #sk-container-id-6 div.sk-parallel-item::before {content: \"\";position: absolute;border-left: 1px solid gray;box-sizing: border-box;top: 0;bottom: 0;left: 50%;z-index: -1;}#sk-container-id-6 div.sk-parallel-item {display: flex;flex-direction: column;z-index: 1;position: relative;background-color: white;}#sk-container-id-6 div.sk-parallel-item:first-child::after {align-self: flex-end;width: 50%;}#sk-container-id-6 div.sk-parallel-item:last-child::after {align-self: flex-start;width: 50%;}#sk-container-id-6 div.sk-parallel-item:only-child::after {width: 0;}#sk-container-id-6 div.sk-dashed-wrapped {border: 1px dashed gray;margin: 0 0.4em 0.5em 0.4em;box-sizing: border-box;padding-bottom: 0.4em;background-color: white;}#sk-container-id-6 div.sk-label label {font-family: monospace;font-weight: bold;display: inline-block;line-height: 1.2em;}#sk-container-id-6 div.sk-label-container {text-align: center;}#sk-container-id-6 div.sk-container {/* jupyter's `normalize.less` sets `[hidden] { display: none; }` but bootstrap.min.css set `[hidden] { display: none !important; }` so we also need the `!important` here to be able to override the default hidden behavior on the sphinx rendered scikit-learn.org. See: https://github.com/scikit-learn/scikit-learn/issues/21755 */display: inline-block !important;position: relative;}#sk-container-id-6 div.sk-text-repr-fallback {display: none;}</style><div id=\"sk-container-id-6\" class=\"sk-top-container\"><div class=\"sk-text-repr-fallback\"><pre>GridSearchCV(cv=5, estimator=Lasso(), param_grid={&#x27;alpha&#x27;: [1, 10]},\n",
       "             scoring=&#x27;neg_mean_squared_error&#x27;)</pre><b>In a Jupyter environment, please rerun this cell to show the HTML representation or trust the notebook. <br />On GitHub, the HTML representation is unable to render, please try loading this page with nbviewer.org.</b></div><div class=\"sk-container\" hidden><div class=\"sk-item sk-dashed-wrapped\"><div class=\"sk-label-container\"><div class=\"sk-label sk-toggleable\"><input class=\"sk-toggleable__control sk-hidden--visually\" id=\"sk-estimator-id-10\" type=\"checkbox\" ><label for=\"sk-estimator-id-10\" class=\"sk-toggleable__label sk-toggleable__label-arrow\">GridSearchCV</label><div class=\"sk-toggleable__content\"><pre>GridSearchCV(cv=5, estimator=Lasso(), param_grid={&#x27;alpha&#x27;: [1, 10]},\n",
       "             scoring=&#x27;neg_mean_squared_error&#x27;)</pre></div></div></div><div class=\"sk-parallel\"><div class=\"sk-parallel-item\"><div class=\"sk-item\"><div class=\"sk-label-container\"><div class=\"sk-label sk-toggleable\"><input class=\"sk-toggleable__control sk-hidden--visually\" id=\"sk-estimator-id-11\" type=\"checkbox\" ><label for=\"sk-estimator-id-11\" class=\"sk-toggleable__label sk-toggleable__label-arrow\">estimator: Lasso</label><div class=\"sk-toggleable__content\"><pre>Lasso()</pre></div></div></div><div class=\"sk-serial\"><div class=\"sk-item\"><div class=\"sk-estimator sk-toggleable\"><input class=\"sk-toggleable__control sk-hidden--visually\" id=\"sk-estimator-id-12\" type=\"checkbox\" ><label for=\"sk-estimator-id-12\" class=\"sk-toggleable__label sk-toggleable__label-arrow\">Lasso</label><div class=\"sk-toggleable__content\"><pre>Lasso()</pre></div></div></div></div></div></div></div></div></div></div>"
      ],
      "text/plain": [
       "GridSearchCV(cv=5, estimator=Lasso(), param_grid={'alpha': [1, 10]},\n",
       "             scoring='neg_mean_squared_error')"
      ]
     },
     "execution_count": 64,
     "metadata": {},
     "output_type": "execute_result"
    }
   ],
   "source": [
    "params = {'alpha': [1, 10]}\n",
    "lasso = Lasso()\n",
    "reg = GridSearchCV(lasso, params, scoring='neg_mean_squared_error', cv=5)\n",
    "reg.fit(train_x, train_y)"
   ]
  },
  {
   "cell_type": "code",
   "execution_count": 65,
   "id": "2f9efdfe",
   "metadata": {},
   "outputs": [
    {
     "data": {
      "text/plain": [
       "{'alpha': 1}"
      ]
     },
     "execution_count": 65,
     "metadata": {},
     "output_type": "execute_result"
    }
   ],
   "source": [
    "reg.best_params_"
   ]
  },
  {
   "cell_type": "code",
   "execution_count": 66,
   "id": "6cc25ff4",
   "metadata": {},
   "outputs": [
    {
     "data": {
      "text/plain": [
       "0.5000221878488963"
      ]
     },
     "execution_count": 66,
     "metadata": {},
     "output_type": "execute_result"
    }
   ],
   "source": [
    "lasso = Lasso(alpha=1)\n",
    "lasso.fit(train_x, train_y)\n",
    "np.sqrt(mean_squared_error(test_y, lasso.predict(test_x)))"
   ]
  },
  {
   "cell_type": "code",
   "execution_count": 67,
   "id": "9ffa4c33",
   "metadata": {},
   "outputs": [
    {
     "data": {
      "text/plain": [
       "0.8894061399094112"
      ]
     },
     "execution_count": 67,
     "metadata": {},
     "output_type": "execute_result"
    }
   ],
   "source": [
    "log_ridge = LogisticRegression(penalty = 'l2', solver = 'liblinear', C = 0.1)\n",
    "log_ridge.fit(train_x, train_y)\n",
    "accuracy_score(test_y, log_ridge.predict(test_x))"
   ]
  },
  {
   "cell_type": "code",
   "execution_count": 68,
   "id": "8bc3d7f5",
   "metadata": {},
   "outputs": [
    {
     "data": {
      "text/plain": [
       "0.8803472571716155"
      ]
     },
     "execution_count": 68,
     "metadata": {},
     "output_type": "execute_result"
    }
   ],
   "source": [
    "log_lasso = LogisticRegression(penalty = 'l1', solver = 'liblinear', C = 0.1)\n",
    "log_lasso.fit(train_x, train_y)\n",
    "accuracy_score(test_y, log_lasso.predict(test_x))"
   ]
  },
  {
   "cell_type": "markdown",
   "id": "e0bfecae",
   "metadata": {},
   "source": [
    "## Gaussian Naive Bayes"
   ]
  },
  {
   "cell_type": "code",
   "execution_count": 69,
   "id": "0ad22279",
   "metadata": {},
   "outputs": [
    {
     "data": {
      "text/plain": [
       "array([[0, 0, 0, ..., 0, 0, 0],\n",
       "       [0, 0, 0, ..., 0, 0, 0],\n",
       "       [0, 0, 0, ..., 0, 0, 0],\n",
       "       ...,\n",
       "       [0, 0, 0, ..., 0, 0, 0],\n",
       "       [0, 0, 0, ..., 0, 0, 0],\n",
       "       [0, 0, 0, ..., 0, 0, 0]])"
      ]
     },
     "execution_count": 69,
     "metadata": {},
     "output_type": "execute_result"
    }
   ],
   "source": [
    "train_x.toarray()"
   ]
  },
  {
   "cell_type": "code",
   "execution_count": 70,
   "id": "6cfe8fcd",
   "metadata": {},
   "outputs": [],
   "source": [
    "gnb = GaussianNB()\n",
    "gnb.fit(train_x.toarray(), train_y)\n",
    "gnb_hyp = gnb.predict(test_x.toarray())"
   ]
  },
  {
   "cell_type": "code",
   "execution_count": 71,
   "id": "1d2e12cf",
   "metadata": {},
   "outputs": [
    {
     "data": {
      "text/plain": [
       "0.6410417715148465"
      ]
     },
     "execution_count": 71,
     "metadata": {},
     "output_type": "execute_result"
    }
   ],
   "source": [
    "accuracy_score(test_y, gnb_hyp)"
   ]
  },
  {
   "cell_type": "code",
   "execution_count": 72,
   "id": "cf940a99",
   "metadata": {},
   "outputs": [
    {
     "data": {
      "text/plain": [
       "array([[3201,  664],\n",
       "       [2189, 1894]])"
      ]
     },
     "execution_count": 72,
     "metadata": {},
     "output_type": "execute_result"
    }
   ],
   "source": [
    "confusion_matrix(test_y, gnb_hyp)"
   ]
  },
  {
   "cell_type": "code",
   "execution_count": 73,
   "id": "6124048e",
   "metadata": {},
   "outputs": [
    {
     "name": "stdout",
     "output_type": "stream",
     "text": [
      "              precision    recall  f1-score   support\n",
      "\n",
      "           0       0.59      0.83      0.69      3865\n",
      "           1       0.74      0.46      0.57      4083\n",
      "\n",
      "    accuracy                           0.64      7948\n",
      "   macro avg       0.67      0.65      0.63      7948\n",
      "weighted avg       0.67      0.64      0.63      7948\n",
      "\n"
     ]
    }
   ],
   "source": [
    "print(classification_report(test_y, gnb_hyp))"
   ]
  },
  {
   "cell_type": "code",
   "execution_count": 74,
   "id": "16347d83",
   "metadata": {},
   "outputs": [],
   "source": [
    "# gnb = GaussianNB()\n",
    "# gnb.fit(train_x.toarray(), train_y)\n",
    "# hyp = gnb.predict(test_x.toarray())\n",
    "\n",
    "# gnb = GaussianNB()\n",
    "# gnb.fit(train_x.toarray(), train_y)\n",
    "# hyp = gnb.predict(test_x.toarray())"
   ]
  },
  {
   "cell_type": "code",
   "execution_count": 61,
   "id": "e1f2c93c",
   "metadata": {},
   "outputs": [
    {
     "data": {
      "text/plain": [
       "1    19953\n",
       "0    19785\n",
       "Name: sentiment, dtype: int64"
      ]
     },
     "execution_count": 61,
     "metadata": {},
     "output_type": "execute_result"
    }
   ],
   "source": [
    "reviews_data.sentiment.value_counts()"
   ]
  },
  {
   "cell_type": "markdown",
   "id": "61322ef3",
   "metadata": {},
   "source": [
    "### I think SMOTE or the NearMiss will not have much of an impact on this data set as SMOTE is useful when there is imbalance in data. In this case the data is distributed, as seen above "
   ]
  },
  {
   "cell_type": "markdown",
   "id": "eaa52eab",
   "metadata": {},
   "source": [
    "### I think there either might be slight increase or same results in the accuracy and in the confusion matrix as well"
   ]
  },
  {
   "cell_type": "markdown",
   "id": "5239c3ed",
   "metadata": {},
   "source": [
    "## Random Forest"
   ]
  },
  {
   "cell_type": "code",
   "execution_count": 75,
   "id": "e6e9bb71",
   "metadata": {},
   "outputs": [
    {
     "data": {
      "text/plain": [
       "0.8537996980372421"
      ]
     },
     "execution_count": 75,
     "metadata": {},
     "output_type": "execute_result"
    }
   ],
   "source": [
    "rf = RandomForestClassifier()\n",
    "rf.fit(train_x, train_y)\n",
    "rf_hyp = rf.predict(test_x)\n",
    "accuracy_score(test_y, rf_hyp)"
   ]
  },
  {
   "cell_type": "code",
   "execution_count": 76,
   "id": "d9972512",
   "metadata": {},
   "outputs": [
    {
     "data": {
      "text/plain": [
       "{'criterion': 'gini', 'max_depth': 10, 'n_estimators': 220}"
      ]
     },
     "execution_count": 76,
     "metadata": {},
     "output_type": "execute_result"
    }
   ],
   "source": [
    "params = {'max_depth': [8, 9, 10],\n",
    "          'criterion': ['entropy', 'gini'],\n",
    "          'n_estimators': [190, 220, 250]}\n",
    "\n",
    "folds = 5\n",
    "# rf = RandomForestClassifier()\n",
    "clf = GridSearchCV(rf, params, cv=folds)\n",
    "clf.fit(train_x, train_y)\n",
    "clf.best_params_"
   ]
  },
  {
   "cell_type": "code",
   "execution_count": 77,
   "id": "30be5986",
   "metadata": {},
   "outputs": [
    {
     "data": {
      "text/plain": [
       "0.8459989934574735"
      ]
     },
     "execution_count": 77,
     "metadata": {},
     "output_type": "execute_result"
    }
   ],
   "source": [
    "accuracy_score(test_y, clf.predict(test_x))"
   ]
  },
  {
   "cell_type": "code",
   "execution_count": 79,
   "id": "fd18ca24",
   "metadata": {},
   "outputs": [
    {
     "data": {
      "text/plain": [
       "0.8520382486160041"
      ]
     },
     "execution_count": 79,
     "metadata": {},
     "output_type": "execute_result"
    }
   ],
   "source": [
    "rf = RandomForestClassifier(n_estimators = 220, max_depth=10, criterion = 'gini')\n",
    "rf.fit(train_x, train_y)\n",
    "rf_hyp = rf.predict(test_x)\n",
    "accuracy_score(test_y, rf_hyp)"
   ]
  },
  {
   "cell_type": "markdown",
   "id": "b4aefd1b",
   "metadata": {},
   "source": [
    "## Logistic Regression is the best algorithm among all other algorithm as it gives the best accuracy score of around 88%. Random Forest also performs well with an accuracy of around 85 percent. Gaussian Naive Bayes give an accuracy of around 64%.  "
   ]
  },
  {
   "cell_type": "markdown",
   "id": "67276cf8",
   "metadata": {},
   "source": [
    "## Logistic Regression is the less complex model among the 3 models as it is a simple linear model which uses logistic function"
   ]
  },
  {
   "cell_type": "code",
   "execution_count": null,
   "id": "2b63d027",
   "metadata": {},
   "outputs": [],
   "source": []
  }
 ],
 "metadata": {
  "kernelspec": {
   "display_name": "Python 3 (ipykernel)",
   "language": "python",
   "name": "python3"
  },
  "language_info": {
   "codemirror_mode": {
    "name": "ipython",
    "version": 3
   },
   "file_extension": ".py",
   "mimetype": "text/x-python",
   "name": "python",
   "nbconvert_exporter": "python",
   "pygments_lexer": "ipython3",
   "version": "3.9.7"
  }
 },
 "nbformat": 4,
 "nbformat_minor": 5
}
